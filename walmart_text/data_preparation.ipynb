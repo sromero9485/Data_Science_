{
 "cells": [
  {
   "cell_type": "markdown",
   "metadata": {},
   "source": [
    "# Data Exploration & Preparation"
   ]
  },
  {
   "cell_type": "code",
   "execution_count": 20,
   "metadata": {},
   "outputs": [],
   "source": [
    "import os\n",
    "import pandas as pd\n",
    "from nltk.corpus import stopwords\n",
    "import re"
   ]
  },
  {
   "cell_type": "code",
   "execution_count": 21,
   "metadata": {},
   "outputs": [],
   "source": [
    "DATA_PATH = \"../data/\""
   ]
  },
  {
   "cell_type": "code",
   "execution_count": 22,
   "metadata": {},
   "outputs": [],
   "source": [
    "raw_data_path = DATA_PATH + 'raw/'\n",
    "dirfiles = os.listdir(raw_data_path)"
   ]
  },
  {
   "cell_type": "code",
   "execution_count": 37,
   "metadata": {},
   "outputs": [],
   "source": [
    "folders = []\n",
    "for file in dirfiles:\n",
    "    if os.path.isdir(raw_data_path+file): folders.append(file)"
   ]
  },
  {
   "cell_type": "code",
   "execution_count": 38,
   "metadata": {},
   "outputs": [
    {
     "data": {
      "text/plain": [
       "['actitud_repartidor',\n",
       " 'ux_walmart',\n",
       " 'precio_diferente',\n",
       " 'indeterminado',\n",
       " 'orden_no_entregada',\n",
       " 'mala_seleccion_no_perecederos',\n",
       " 'call_center',\n",
       " 'orden_cancelada',\n",
       " 'equipo_de_proteccion',\n",
       " 'mal_estado_perecederos',\n",
       " 'codigo_dscto_envio_gratis_no_aplicado',\n",
       " 'cadena_de_frio',\n",
       " 'reembolsos',\n",
       " 'ontime',\n",
       " 'producto_caducado',\n",
       " 'stockout',\n",
       " 'material_para_surtir']"
      ]
     },
     "execution_count": 38,
     "metadata": {},
     "output_type": "execute_result"
    }
   ],
   "source": [
    "folders"
   ]
  },
  {
   "cell_type": "markdown",
   "metadata": {},
   "source": [
    "## Create data frame"
   ]
  },
  {
   "cell_type": "code",
   "execution_count": 41,
   "metadata": {},
   "outputs": [],
   "source": [
    "def clean_data(raw_value, clean_characters):\n",
    "    ## Basic clean steps\n",
    "    for character in clean_characters:\n",
    "        raw_value  = raw_value.replace(character,\"\")\n",
    "    raw_value = raw_value.lower()\n",
    "    \n",
    "    return raw_value\n",
    "    "
   ]
  },
  {
   "cell_type": "code",
   "execution_count": 43,
   "metadata": {},
   "outputs": [],
   "source": [
    "value = []\n",
    "label = []\n",
    "\n",
    "for folder in folders:\n",
    "    current_path = raw_data_path + folder +\"/\"\n",
    "    files = os.listdir(current_path)\n",
    "    \n",
    "    for file in files:\n",
    "        with open(current_path+file) as f:\n",
    "            raw_value = f.read()\n",
    "            ## Clean data\n",
    "            clean = [\"['\", \"']\", \".\", \",\", \"\\\\n\", \"\\\\t\", \":\", \";\"]\n",
    "            raw_value  = clean_data(raw_value, clean)\n",
    "            \n",
    "            value.append(raw_value)\n",
    "            label.append(folder)"
   ]
  },
  {
   "cell_type": "code",
   "execution_count": 44,
   "metadata": {},
   "outputs": [],
   "source": [
    "data = { 'value': value, 'label':label}\n",
    "raw_data = pd.DataFrame.from_dict(data)"
   ]
  },
  {
   "cell_type": "code",
   "execution_count": 45,
   "metadata": {},
   "outputs": [
    {
     "data": {
      "text/html": [
       "<div>\n",
       "<style scoped>\n",
       "    .dataframe tbody tr th:only-of-type {\n",
       "        vertical-align: middle;\n",
       "    }\n",
       "\n",
       "    .dataframe tbody tr th {\n",
       "        vertical-align: top;\n",
       "    }\n",
       "\n",
       "    .dataframe thead th {\n",
       "        text-align: right;\n",
       "    }\n",
       "</style>\n",
       "<table border=\"1\" class=\"dataframe\">\n",
       "  <thead>\n",
       "    <tr style=\"text-align: right;\">\n",
       "      <th></th>\n",
       "      <th>value</th>\n",
       "      <th>label</th>\n",
       "    </tr>\n",
       "  </thead>\n",
       "  <tbody>\n",
       "    <tr>\n",
       "      <th>0</th>\n",
       "      <td>otorgo estas calificaciones debido a que (i) m...</td>\n",
       "      <td>actitud_repartidor</td>\n",
       "    </tr>\n",
       "    <tr>\n",
       "      <th>1</th>\n",
       "      <td>según se perdieron no es la primera vez que co...</td>\n",
       "      <td>actitud_repartidor</td>\n",
       "    </tr>\n",
       "    <tr>\n",
       "      <th>2</th>\n",
       "      <td>cobran más que lo estipulado en el ticket adem...</td>\n",
       "      <td>actitud_repartidor</td>\n",
       "    </tr>\n",
       "    <tr>\n",
       "      <th>3</th>\n",
       "      <td>hubo muchos problemas esta vez la orden llego ...</td>\n",
       "      <td>actitud_repartidor</td>\n",
       "    </tr>\n",
       "    <tr>\n",
       "      <th>4</th>\n",
       "      <td>perdieron mi ticket y no me lo entregaron</td>\n",
       "      <td>actitud_repartidor</td>\n",
       "    </tr>\n",
       "    <tr>\n",
       "      <th>...</th>\n",
       "      <td>...</td>\n",
       "      <td>...</td>\n",
       "    </tr>\n",
       "    <tr>\n",
       "      <th>1574</th>\n",
       "      <td>van varias semanas que la persona que entrega ...</td>\n",
       "      <td>material_para_surtir</td>\n",
       "    </tr>\n",
       "    <tr>\n",
       "      <th>1575</th>\n",
       "      <td>antes el servicio era genial llevaban huacales...</td>\n",
       "      <td>material_para_surtir</td>\n",
       "    </tr>\n",
       "    <tr>\n",
       "      <th>1576</th>\n",
       "      <td>está bien que den trabajo a las personas con e...</td>\n",
       "      <td>material_para_surtir</td>\n",
       "    </tr>\n",
       "    <tr>\n",
       "      <th>1577</th>\n",
       "      <td>prq traen las comestibles sueltos  hoy trajero...</td>\n",
       "      <td>material_para_surtir</td>\n",
       "    </tr>\n",
       "    <tr>\n",
       "      <th>1578</th>\n",
       "      <td>el repartidor me entregó mi mercancía en el pu...</td>\n",
       "      <td>material_para_surtir</td>\n",
       "    </tr>\n",
       "  </tbody>\n",
       "</table>\n",
       "<p>1579 rows × 2 columns</p>\n",
       "</div>"
      ],
      "text/plain": [
       "                                                  value                 label\n",
       "0     otorgo estas calificaciones debido a que (i) m...    actitud_repartidor\n",
       "1     según se perdieron no es la primera vez que co...    actitud_repartidor\n",
       "2     cobran más que lo estipulado en el ticket adem...    actitud_repartidor\n",
       "3     hubo muchos problemas esta vez la orden llego ...    actitud_repartidor\n",
       "4             perdieron mi ticket y no me lo entregaron    actitud_repartidor\n",
       "...                                                 ...                   ...\n",
       "1574  van varias semanas que la persona que entrega ...  material_para_surtir\n",
       "1575  antes el servicio era genial llevaban huacales...  material_para_surtir\n",
       "1576  está bien que den trabajo a las personas con e...  material_para_surtir\n",
       "1577  prq traen las comestibles sueltos  hoy trajero...  material_para_surtir\n",
       "1578  el repartidor me entregó mi mercancía en el pu...  material_para_surtir\n",
       "\n",
       "[1579 rows x 2 columns]"
      ]
     },
     "execution_count": 45,
     "metadata": {},
     "output_type": "execute_result"
    }
   ],
   "source": [
    "raw_data"
   ]
  },
  {
   "cell_type": "code",
   "execution_count": 46,
   "metadata": {},
   "outputs": [],
   "source": [
    "raw_data.to_csv(DATA_PATH+\"raw_data.csv\", index=False)"
   ]
  },
  {
   "cell_type": "code",
   "execution_count": null,
   "metadata": {},
   "outputs": [],
   "source": []
  }
 ],
 "metadata": {
  "kernelspec": {
   "display_name": "Python 3",
   "language": "python",
   "name": "python3"
  },
  "language_info": {
   "codemirror_mode": {
    "name": "ipython",
    "version": 3
   },
   "file_extension": ".py",
   "mimetype": "text/x-python",
   "name": "python",
   "nbconvert_exporter": "python",
   "pygments_lexer": "ipython3",
   "version": "3.8.5"
  }
 },
 "nbformat": 4,
 "nbformat_minor": 5
}
