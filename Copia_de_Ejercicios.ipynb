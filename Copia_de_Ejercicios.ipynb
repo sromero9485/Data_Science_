{
 "cells": [
  {
   "cell_type": "markdown",
   "metadata": {
    "colab_type": "text",
    "id": "view-in-github"
   },
   "source": [
    "<a href=\"https://colab.research.google.com/github/jhermosillo/DIPLOMADO_CDP/blob/main/Copia_de_Ejercicios.ipynb\" target=\"_parent\"><img src=\"https://colab.research.google.com/assets/colab-badge.svg\" alt=\"Open In Colab\"/></a>"
   ]
  },
  {
   "cell_type": "markdown",
   "metadata": {
    "id": "4zMzLuXxBDdY"
   },
   "source": [
    "# Ejercicios bases de Python"
   ]
  },
  {
   "cell_type": "markdown",
   "metadata": {
    "id": "HAY8IBC4dM62"
   },
   "source": [
    "## Estructuras, asignación y funciones"
   ]
  },
  {
   "cell_type": "markdown",
   "metadata": {
    "id": "5OKzkyU6_1kB"
   },
   "source": [
    "### 1. Creando una agenda \n",
    "\n",
    "Utiliza los conceptos básicos de python para crear una agenda telefónica. Deberás completar las funciones crear_agenda, agregar_contacto, eliminimar_contacto y buscar_contacto que se encuentran en las siguientes celdas.\n",
    "\n",
    "* ```crear_agenda()```, esta función devuelve una nueva agenda vacía, elige el tipo de dato que creas adecuado para este proposito.\n",
    "* ```agregar_contacto(agenda, nombre, numero)```, esta función debe permitir agregar un nuevo contacto a la agenda, además si un contacto ya existe con el nombre recibido entonces debes almacenar su nuevo numero sin eliminar el anterior.\n",
    "* ```buscar_contacto(agenda, nombre)```, esta función debe de regresar el o los números registados de un contacto, si el contacto no existe entonces imprimer el mensaje \"Contacto no encontrado en la agenda\".\n",
    "* ```eliminar_contacto(agenda, nombre)```, esta función permite eliminar a un contacto de la agenda, si el contacto no existe entonces imprimer el mensaje \"Contacto no encontrado en la agenda\"."
   ]
  },
  {
   "cell_type": "code",
   "execution_count": 1,
   "metadata": {
    "id": "EJAb9gnbzhA4"
   },
   "outputs": [],
   "source": [
    "def crear_agenda():\n",
    "    agenda = {}\n",
    "    return agenda"
   ]
  },
  {
   "cell_type": "code",
   "execution_count": 3,
   "metadata": {
    "colab": {
     "base_uri": "https://localhost:8080/"
    },
    "id": "xYpD6zcBwfpv",
    "outputId": "d4fe8f40-5893-4c37-def7-6539d4aa671a"
   },
   "outputs": [
    {
     "name": "stdout",
     "output_type": "stream",
     "text": [
      "<class 'dict'>\n"
     ]
    }
   ],
   "source": [
    "mi_agenda = crear_agenda()\r\n",
    "print(type(mi_agenda))"
   ]
  },
  {
   "cell_type": "code",
   "execution_count": 23,
   "metadata": {
    "id": "QjsW0Y_M_x4j"
   },
   "outputs": [],
   "source": [
    "def agregar_contacto(agenda, nombre, numero):\n",
    "    \"\"\"\n",
    "    Tip:\n",
    "    Primero debes comprobar si existe el contacto\n",
    "    si no existe entonces crea uno nuevo y guarda\n",
    "    su nombre y numero\"\"\"\n",
    "    #llaves = agenda.keys() #otra posibilidad\n",
    "    if nombre not in agenda:\n",
    "      agenda[nombre]=[numero]\n",
    "    else:\n",
    "      agenda[nombre].append(numero)\n",
    "    return agenda"
   ]
  },
  {
   "cell_type": "code",
   "execution_count": 24,
   "metadata": {
    "colab": {
     "base_uri": "https://localhost:8080/"
    },
    "id": "CkJpO_BtzhA5",
    "outputId": "bc441b93-be0a-43db-8115-2f58c09e3d41"
   },
   "outputs": [
    {
     "name": "stdout",
     "output_type": "stream",
     "text": [
      "{'Javier': ['1234567890']}\n"
     ]
    }
   ],
   "source": [
    "agenda = crear_agenda()\n",
    "agenda = agregar_contacto(agenda, \"Javier\", \"1234567890\")\n",
    "print(agenda)"
   ]
  },
  {
   "cell_type": "code",
   "execution_count": 26,
   "metadata": {
    "colab": {
     "base_uri": "https://localhost:8080/"
    },
    "id": "VSTaBYBaxycK",
    "outputId": "35a92cdb-de73-4622-829e-9372155dc593"
   },
   "outputs": [
    {
     "name": "stdout",
     "output_type": "stream",
     "text": [
      "{'Javier': ['1234567890', '123', 123]}\n"
     ]
    }
   ],
   "source": [
    "agenda = agregar_contacto(agenda, \"Javier\", 123)\r\n",
    "print(agenda)"
   ]
  },
  {
   "cell_type": "code",
   "execution_count": 27,
   "metadata": {
    "id": "-xhGm-CXzhA7"
   },
   "outputs": [],
   "source": [
    "def buscar_contacto(agenda, nombre):\n",
    "    \"\"\"\n",
    "    Busca el contacto en la agenda, imprime su nombre y numero\n",
    "    Si tiene mas de un numero, imprime todos\n",
    "    Si el contacto no existe, imprime \"Contacto no encontrado en la agenda\"\n",
    "    \"\"\"\n",
    "    if nombre not in agenda:\n",
    "      print(\"Contacto no encontrado en la agenda\")\n",
    "    else:\n",
    "      print(\"el contacto {0}, tiene los siguientes números: {1}\".format(nombre,agenda[nombre]))\n",
    "\n",
    "    return"
   ]
  },
  {
   "cell_type": "code",
   "execution_count": 28,
   "metadata": {
    "colab": {
     "base_uri": "https://localhost:8080/"
    },
    "id": "FzG19KdxzhA7",
    "outputId": "869b10cc-62dc-41a2-c4d1-f054a252d0cd"
   },
   "outputs": [
    {
     "name": "stdout",
     "output_type": "stream",
     "text": [
      "el contacto Javier, tiene los siguientes números: ['1234567890', '123', 123]\n",
      "el contacto Javier, tiene los siguientes números: ['1234567890', '123', 123, '0987654321']\n"
     ]
    }
   ],
   "source": [
    "buscar_contacto(agenda, \"Javier\")\n",
    "agenda = agregar_contacto(agenda, \"Javier\", \"0987654321\")\n",
    "buscar_contacto(agenda, \"Javier\")"
   ]
  },
  {
   "cell_type": "code",
   "execution_count": 29,
   "metadata": {
    "id": "9c7BfxoZzhA7"
   },
   "outputs": [],
   "source": [
    "def eliminar_contacto(agenda, nombre):\n",
    "    \"\"\"\n",
    "    Elimina el contacto de la agenda\n",
    "    si el contacto no existe imprime \"Contacto no encontrado en la agenda\"\n",
    "    \"\"\"\n",
    "    if nombre not in agenda:\n",
    "      print(\"Contacto no encontrado en la agenda\")\n",
    "    else:\n",
    "      agenda.pop(nombre)\n",
    "\n",
    "    return agenda"
   ]
  },
  {
   "cell_type": "code",
   "execution_count": 31,
   "metadata": {
    "colab": {
     "base_uri": "https://localhost:8080/"
    },
    "id": "RkNtzllbBirX",
    "outputId": "642a080c-e491-434c-e384-d803296f76ab"
   },
   "outputs": [
    {
     "name": "stdout",
     "output_type": "stream",
     "text": [
      "{}\n"
     ]
    }
   ],
   "source": [
    "agenda = eliminar_contacto(agenda,\"Javier\")\r\n",
    "print(agenda)"
   ]
  },
  {
   "cell_type": "markdown",
   "metadata": {
    "id": "3nzzkH6EA88D"
   },
   "source": [
    "# Ejercicios estadística"
   ]
  },
  {
   "cell_type": "markdown",
   "metadata": {
    "id": "e5g5CAaOc01h"
   },
   "source": [
    "### Función suma\n",
    "\n",
    "$$\n",
    "    suma(a) = \\sum_{i=1}^{n}a_i\n",
    "$$"
   ]
  },
  {
   "cell_type": "code",
   "execution_count": 34,
   "metadata": {
    "id": "RxWbpZ42c07g"
   },
   "outputs": [],
   "source": [
    "def suma(x):\n",
    "    suma = 0\n",
    "    for e in x:\n",
    "      suma = suma + e\n",
    "    return suma"
   ]
  },
  {
   "cell_type": "code",
   "execution_count": 35,
   "metadata": {
    "id": "mdiLISG-zhA-"
   },
   "outputs": [],
   "source": [
    "assert suma([1, 2, 3, 4, 5]) == 15"
   ]
  },
  {
   "cell_type": "markdown",
   "metadata": {
    "id": "Hc30xEPMc1QC"
   },
   "source": [
    "### Función promedio.\n",
    "\n",
    "$$\n",
    "\t\\bar{x} = \\dfrac{\\sum_{i=1}^{n}x_i}{n}\n",
    "$$"
   ]
  },
  {
   "cell_type": "code",
   "execution_count": 36,
   "metadata": {
    "id": "2KyU6PyCc1VM"
   },
   "outputs": [],
   "source": [
    "def promedio(x):\n",
    "    promedio = 0\n",
    "    for e in x:\n",
    "      promedio = promedio + e\n",
    "    promedio = promedio/len(x)\n",
    "    return promedio"
   ]
  },
  {
   "cell_type": "code",
   "execution_count": 37,
   "metadata": {
    "id": "7GM2YpXVzhBA"
   },
   "outputs": [],
   "source": [
    "assert promedio([1, 2, 3, 4, 5]) == 3, \"Error en promedio\""
   ]
  },
  {
   "cell_type": "markdown",
   "metadata": {
    "id": "ImMoE5w4c1of"
   },
   "source": [
    "### Función varianza.\n",
    "$$\n",
    "\\sigma^2 = \\frac{1}{n} \\sum_{i=1}^{n}(x_i - \\bar{x})^2\n",
    "$$"
   ]
  },
  {
   "cell_type": "code",
   "execution_count": 38,
   "metadata": {
    "id": "h0w2PHhLc1tG"
   },
   "outputs": [],
   "source": [
    "def var(x):\n",
    "    var = 0\n",
    "    p = promedio(x)\n",
    "    for e in x:\n",
    "      var = var + (e - p)**2\n",
    "    var = var/len(x)\n",
    "    return var"
   ]
  },
  {
   "cell_type": "code",
   "execution_count": 39,
   "metadata": {
    "id": "puEjtv4OzhBA"
   },
   "outputs": [],
   "source": [
    "assert var([1, 2, 3, 4, 5]) == 2, \"Error en var\""
   ]
  },
  {
   "cell_type": "markdown",
   "metadata": {
    "id": "fxxJeFhbA9Cq"
   },
   "source": [
    "# Ejercicios álgebra lineal"
   ]
  },
  {
   "cell_type": "markdown",
   "metadata": {
    "id": "6dXp-owNeqP9"
   },
   "source": [
    "## Vectores con listas"
   ]
  },
  {
   "cell_type": "markdown",
   "metadata": {
    "id": "9Du0_NsNc81H"
   },
   "source": [
    "### Ones"
   ]
  },
  {
   "cell_type": "markdown",
   "metadata": {
    "id": "DKp9wDLPEZdz"
   },
   "source": [
    "Completa la función ones1D que recibe como parámetros un entero $n$ y retorna una lista de tamaño $n$ con todos sus elementos con el valor $1$.\n",
    "\n",
    "Ejemplo:\n",
    "\n",
    "```\n",
    ">>> ones(5)\n",
    "[1, 1, 1, 1, 1]\n",
    "```\n",
    "\n"
   ]
  },
  {
   "cell_type": "code",
   "execution_count": 40,
   "metadata": {
    "id": "l4j5ka46EulY"
   },
   "outputs": [],
   "source": [
    "def ones_1d(n):\n",
    "    ones_list = [1]*n\n",
    "    return ones_list  "
   ]
  },
  {
   "cell_type": "markdown",
   "metadata": {
    "id": "TBYV7LYqdSJo"
   },
   "source": [
    "Ejecuta la siguiente celda para comprobar la función ones1D:"
   ]
  },
  {
   "cell_type": "code",
   "execution_count": 41,
   "metadata": {
    "colab": {
     "base_uri": "https://localhost:8080/"
    },
    "id": "QUlEotVIdRno",
    "outputId": "95d3e6ff-d400-426b-e025-36802ea1478a"
   },
   "outputs": [
    {
     "name": "stdout",
     "output_type": "stream",
     "text": [
      "La funcion es correcta\n"
     ]
    }
   ],
   "source": [
    "assert len(ones_1d(10)) == 10 and  ones_1d(3).count(1) == 3 and sum(ones_1d(5)) == 5  , \"error en la funcion ones_1d\"\n",
    "print(\"La funcion es correcta\")"
   ]
  },
  {
   "cell_type": "markdown",
   "metadata": {
    "id": "b8SaUCdYzhBC"
   },
   "source": [
    "### Ones 2D"
   ]
  },
  {
   "cell_type": "markdown",
   "metadata": {
    "id": "lxOMWQXXEZp3"
   },
   "source": [
    "Completa la función ones_2d que recibe como parámetros un entero $n$ y un entero $m$ y retorna una lista con $n$ sub-listas cada una de tamaño $m$ con todos sus elementos con el valor 1. En otras palabras, una matriz $n \\times m$ con sus elementos iniciados con valor $1$.\n",
    "\n",
    "Ejemplo:\n",
    "\n",
    "\n",
    "\n",
    "```\n",
    ">>> ones_2d(2, 3)\n",
    "[[1, 1, 1], [1, 1, 1]]\n",
    "```\n",
    "\n"
   ]
  },
  {
   "cell_type": "code",
   "execution_count": 48,
   "metadata": {
    "id": "-xfFmttxFRCw"
   },
   "outputs": [],
   "source": [
    "# def ones_2d(m, n):\n",
    "#     ones_ll = []\n",
    "#     for i in range(m):\n",
    "#       aux_l=[]\n",
    "#       for j in range(n):\n",
    "#         aux_l.append(1)\n",
    "#       ones_ll.append(aux_l)\n",
    "#     return ones_ll\n",
    "\n",
    "# def ones_2d(m, n):\n",
    "#     ones_ll = [[1 for i in range(n)] for i in range(m)]\n",
    "#     return ones_ll\n",
    "\n",
    "def ones_2d(m, n):\n",
    "    ones_ll = [[1]*n]*m\n",
    "    return ones_ll"
   ]
  },
  {
   "cell_type": "code",
   "execution_count": 52,
   "metadata": {
    "colab": {
     "base_uri": "https://localhost:8080/"
    },
    "id": "jNU2rXdz68XY",
    "outputId": "8d0b3190-57f2-40ad-9ba3-0ae5e4cd13d0"
   },
   "outputs": [
    {
     "name": "stdout",
     "output_type": "stream",
     "text": [
      "[[1, 1, 1], [1, 1, 1]]\n"
     ]
    }
   ],
   "source": [
    "print([[1]*3]*2)"
   ]
  },
  {
   "cell_type": "markdown",
   "metadata": {
    "id": "yugjWXI9eI4P"
   },
   "source": [
    "Ejecuta la siguiente celda para comprobar la función ones2D:"
   ]
  },
  {
   "cell_type": "code",
   "execution_count": 47,
   "metadata": {
    "colab": {
     "base_uri": "https://localhost:8080/"
    },
    "id": "i7sZXWsveJBC",
    "outputId": "30e374f8-4c57-44a9-ae65-dd95faa9efdb"
   },
   "outputs": [
    {
     "name": "stdout",
     "output_type": "stream",
     "text": [
      "La funcion es correcta\n"
     ]
    }
   ],
   "source": [
    "assert len(ones_2d(2, 3)) == 2 and len(ones_2d(2, 3)[0]) == 3 and sum([x_i for sl in ones_2d(3, 2) for x_i in sl]) == 6 , \"error en la funcion ones_2d\"\n",
    "print(\"La funcion es correcta\")"
   ]
  },
  {
   "cell_type": "markdown",
   "metadata": {
    "id": "EwVykdiYzhBD"
   },
   "source": [
    "### Producto punto (inner)"
   ]
  },
  {
   "cell_type": "markdown",
   "metadata": {
    "id": "xy0p5QxEzhBE"
   },
   "source": [
    "Completa la función ones_2d que recibe como parametros dos listas a, b de la misma longitúd y retorna el producto punto de ambos.\n",
    "\n",
    "El producto punto está definido como:\n",
    "\n",
    "$$a = [a_1 a_2 ... a_n] \\: y \\: b = [b_1 b_2 ... b_n]$$\n",
    "\n",
    "$$\n",
    "a \\cdot b = a_1*b_1 + a_2*b_2 + \\dots + a_n*b_n\n",
    "$$"
   ]
  },
  {
   "cell_type": "code",
   "execution_count": 3,
   "metadata": {
    "id": "OvNCcnXLBBc0"
   },
   "outputs": [],
   "source": [
    "def inner(a, b):\n",
    "    #1. recorrer las listas\n",
    "    #2. ¿como se, cuantos elementos tiene una lista? -> len(Lista)\n",
    "    #3. Usar un ciclo for para recorrer las listas\n",
    "    #4. A medida que voy recorriendo las listas, necesito recuperar cada elemento\n",
    "    #5. Hacer el producto de estos elementos\n",
    "    #6. Hacer la suma de este producto\n",
    "    #7. Acumular este producto elemento a elemento\n",
    "    suma = 0\n",
    "    for i in range(len(a)):\n",
    "      x = a[i]\n",
    "      #print(\"valor de i={0}, valor de a[{1}]= {2}\".format(i,i,a[i]))\n",
    "      y = b[i]\n",
    "      prod = x*y\n",
    "      suma = suma + prod\n",
    "    return suma"
   ]
  },
  {
   "cell_type": "code",
   "execution_count": 4,
   "metadata": {
    "colab": {
     "base_uri": "https://localhost:8080/"
    },
    "id": "-fDkDjKczhBE",
    "outputId": "80608b3d-d1f4-45c2-a945-c214cb66536a"
   },
   "outputs": [
    {
     "name": "stdout",
     "output_type": "stream",
     "text": [
      "Correcto 14\n"
     ]
    }
   ],
   "source": [
    "#assert inner([1, 2, 3], [1, 2 ,3]) == 14, \"Error en inner\"\n",
    "producto_punto = inner([1, 2, 3], [1, 2 ,3])\n",
    "print(\"Correcto\", producto_punto)"
   ]
  },
  {
   "cell_type": "markdown",
   "metadata": {
    "id": "6B7dwCC7eqnL"
   },
   "source": [
    "## Matrices con listas de listas"
   ]
  },
  {
   "cell_type": "markdown",
   "metadata": {
    "id": "l36RNkUqexzU"
   },
   "source": [
    "### Matriz identidad\n",
    "$$\n",
    "\tI_{ij} = \\begin{cases}\n",
    "\t\t1 & i=j\\\\\n",
    "\t\t0 & i \\neq j\\\\\n",
    "\t\\end{cases}\n",
    "$$"
   ]
  },
  {
   "cell_type": "code",
   "execution_count": 25,
   "metadata": {
    "id": "afcnX6E_eqvP"
   },
   "outputs": [],
   "source": [
    "def eye(n):\n",
    "    '''\n",
    "    Esta funcion debe regresar la matriz identidad de tamano nxn\n",
    "    '''\n",
    "    # Tengo que crear una lista con n listas\n",
    "    # Cada una de las n listas debe tener un solo 1 en funcion de su posicion en la lista Madre\n",
    "    # Creo un rango de tamaño n para ir construyendo cada sub-lista\n",
    "    # Necesito crear listas de tamaño n\n",
    "    # Necesito controlar el lugar donde pongo el 1\n",
    "    # Esto en funcion del valor del indice de recorrido (i)\n",
    "    I = []\n",
    "    vector_fila = [0]*n\n",
    "    #para n= 3, si i=0 -> [1,0,0], si i=1-> [0,1,0]..\n",
    "    for i in range(n): \n",
    "      vector_fila[i]=1\n",
    "      I.append(vector_fila[:])\n",
    "      vector_fila[i]=0\n",
    "    return I"
   ]
  },
  {
   "cell_type": "code",
   "execution_count": 27,
   "metadata": {
    "colab": {
     "base_uri": "https://localhost:8080/"
    },
    "id": "aGgCGhqrzhBF",
    "outputId": "9bb127d4-e377-46bd-b318-f8f3ddc5dc35"
   },
   "outputs": [
    {
     "data": {
      "text/plain": [
       "[[1, 0, 0, 0], [0, 1, 0, 0], [0, 0, 1, 0], [0, 0, 0, 1]]"
      ]
     },
     "execution_count": 27,
     "metadata": {
      "tags": []
     },
     "output_type": "execute_result"
    }
   ],
   "source": [
    "assert eye(2) == [[1, 0], [0, 1]], \"Error en eye\"\r\n",
    "eye(4)"
   ]
  },
  {
   "cell_type": "markdown",
   "metadata": {
    "id": "jLXu_k7CfCqF"
   },
   "source": [
    "### Matriz transpuesta\n",
    "\n",
    "$$C = A^T \\Leftrightarrow c_{ij} = a{ji}$$\n",
    "\n",
    "Por ejemplo, si:\n",
    "\t$$\n",
    "\tA = \\begin{bmatrix}\n",
    "\ta_{11} & a_{12}  \\\\\n",
    "\ta_{21} & a_{22}  \\\\\n",
    "\ta_{31} & a_{32}  \\\\\n",
    "\t\\end{bmatrix}\n",
    "\t$$\n",
    "\tentonces\n",
    "\t$$\n",
    "\tA^T = \\begin{bmatrix}\n",
    "\ta_{11} & a_{21} & a_{31} \\\\\n",
    "\ta_{12} & a_{22} & a_{32} \\\\\n",
    "\t\\end{bmatrix}\n",
    "\t$$"
   ]
  },
  {
   "cell_type": "code",
   "execution_count": 5,
   "metadata": {
    "id": "zKWY09JhfEfa"
   },
   "outputs": [],
   "source": [
    "def traspose(A):\n",
    "    '''\n",
    "    Esta funcion debe regresar la transpuesta de A\n",
    "    '''\n",
    "    # Voy a recorrer la matriz de entrada A fila por fila\n",
    "    # Necesito construir un vector columna con cada fila\n",
    "    # Necesito ir agregando estos vectores columna a la matriz transpuesta\n",
    "\n",
    "    # Otro enfoque es que para construir la matriz transpuesta, puedo agregar vectores fila\n",
    "    # Necesito entonces, para construir cada vector fila, recorrer la matriz A columna por columna\n",
    "    # ¿Cómo hago eso?\n",
    "\n",
    "    A_t = []\n",
    "    # recorro A columna por columna\n",
    "    for j in range(len(A[0])):\n",
    "      vector_fila = [] #el vector que voy a agregar a A_t; debe iniciar en blanco\n",
    "      for i in range(len(A)):\n",
    "        # obtengo todos los elementos de la columna j y los agrego a mi vector fila\n",
    "        vector_fila.append(A[i][j])\n",
    "      # agrego una copia del vector fila a A_t \n",
    "      A_t.append(vector_fila[:])\n",
    "    return A_t"
   ]
  },
  {
   "cell_type": "code",
   "execution_count": 6,
   "metadata": {
    "id": "bl1lclWhzhBF"
   },
   "outputs": [],
   "source": [
    "assert traspose([[1, 2], [3, 4], [5, 6]]) == [[1, 3, 5], [2, 4, 6]], \"Error en traspose\""
   ]
  },
  {
   "cell_type": "code",
   "execution_count": 7,
   "metadata": {
    "colab": {
     "base_uri": "https://localhost:8080/"
    },
    "id": "1p4KKcTjI5PY",
    "outputId": "d427f98a-154c-4a21-fc7e-a7271f117c94"
   },
   "outputs": [
    {
     "name": "stdout",
     "output_type": "stream",
     "text": [
      "[[1], [2], [3]]\n"
     ]
    }
   ],
   "source": [
    "v = [[1,2,3]]  #esto es una matriz de 1x3\r\n",
    "v_t = traspose(v) #esto es una matriz de 3x1\r\n",
    "print(v_t)"
   ]
  },
  {
   "cell_type": "code",
   "execution_count": 37,
   "metadata": {
    "colab": {
     "base_uri": "https://localhost:8080/"
    },
    "id": "U1eicLetJkX_",
    "outputId": "be88cf2b-0e7f-4e20-a41f-351945a8837b"
   },
   "outputs": [
    {
     "name": "stdout",
     "output_type": "stream",
     "text": [
      "14\n"
     ]
    }
   ],
   "source": [
    "a = [1,2,3]\r\n",
    "b = [1,2,3]\r\n",
    "print(inner(a,b))"
   ]
  },
  {
   "cell_type": "markdown",
   "metadata": {
    "id": "YnYXfNmizhBF"
   },
   "source": [
    "### Valida multiplicación\n",
    "\n",
    "```True``` si\n",
    "$$A \\qquad es \\qquad mxn$$\n",
    "y\n",
    "$$B \\qquad es \\qquad nxp$$\n",
    "```False``` en otro caso"
   ]
  },
  {
   "cell_type": "code",
   "execution_count": 31,
   "metadata": {
    "id": "QS3a6v3CzhBG"
   },
   "outputs": [],
   "source": [
    "def validate_mat_mul(A, B):\n",
    "    val = False\n",
    "    n = len(A[0])\n",
    "    if len(B) == n:\n",
    "      val = True\n",
    "    return val"
   ]
  },
  {
   "cell_type": "code",
   "execution_count": 32,
   "metadata": {
    "id": "5bhyeBnMzhBG"
   },
   "outputs": [],
   "source": [
    "assert validate_mat_mul([[1, 2], [3, 4]], [[5, 6], [7, 8]]) and \\\n",
    "validate_mat_mul([[1, 2], [3, 4], [5, 6]], [[1, 2, 3], [4, 5, 6]]) and \\\n",
    "not validate_mat_mul([[1, 2, 3], [4, 5, 6], [7, 8, 9]], [[1, 2], [3, 4]]), \"Error en validate_mat_mul\""
   ]
  },
  {
   "cell_type": "markdown",
   "metadata": {
    "id": "RY2TgoGye3pV"
   },
   "source": [
    "### Multiplicación de matrices\n",
    "\n",
    "Si $A \\in \\mathbb{R}^{m \\times n}$ y $B \\in \\mathbb{R}^{n \\times p}$ entonces:\n",
    "$$\n",
    "C = A B \\in \\mathbb{R}^{m \\times p}\\Leftrightarrow c_{ij} = \\sum_{k=1}^{n}a_{ik} b_{kj}\n",
    "$$"
   ]
  },
  {
   "cell_type": "code",
   "execution_count": 21,
   "metadata": {
    "id": "DxFQFm51e-A1"
   },
   "outputs": [],
   "source": [
    "def mat_mul(A, B):\n",
    "    # Idea!\n",
    "    # La multiplicacion la puedo hacer de la siguiente forma\n",
    "    # Cada elemento de C es un producto punto de un vector fila de A con un vector columna de B\n",
    "    # La fila de A me indica la fila de C y la columna de B me indica la columna de C\n",
    "    # Podria usar mi funcion inner(a,b) con a=fila de A, y b=columna de B\n",
    "    # Lo que necesito es ir controlando la posicion del producto punto en C\n",
    "    # Para ello voy a recorrer ambas matrices A (por filas) y B por columnas\n",
    "    # Ya sabemos que las columnas de A = filas de B\n",
    "\n",
    "    # Otra forma es aplicar la formula que nos proponen\n",
    "    # Uso dos indices i,j para recorrer las filas de A y las columnas de B\n",
    "    # estos indices me indican donde colocar el resultado de la suma de productos en C\n",
    "    # Necesito un tercer indice k, para (al mismo tiempo) avanzar en las columnas de A y las filas de B\n",
    "\n",
    "    '''\n",
    "    Algoritmo básico, usando la fórmula.\n",
    "    '''  \n",
    "\n",
    "#     C = []\n",
    "#     for i in range(len(A)):\n",
    "#         vector_fila_de_C = []\n",
    "#         for j in range(len(B[0])):\n",
    "#             suma = 0\n",
    "#             for k in range(len(B)):\n",
    "#                 a = A[i][k]\n",
    "#                 b = B[k][j]\n",
    "#                 prod = a*b\n",
    "#                 suma = suma + prod\n",
    "#             vector_fila_de_C.append(suma)\n",
    "#         C.append(vector_fila_de_C[:])\n",
    "#     return C\n",
    "\n",
    "    '''\n",
    "    Esta solución es incorrecta, \n",
    "    porque B[j] lee una fila, \n",
    "    no una columna.\n",
    "    '''  \n",
    "#     C = []\n",
    "#     for i in range(len(A)):\n",
    "#         vector_aux = []\n",
    "#         for j in range(len(B)):\n",
    "#             vector_aux.append(inner(A[i],B[j])) #B[j] lee una fila de B!!!\n",
    "#         C.append(vector_aux[:])\n",
    "#     return C\n",
    "\n",
    "    ''' \n",
    "    Solución correcta usando inner():\n",
    "     1. Primero hay que calcular la transpuesta de B (B_T), \n",
    "        para convertir filas en columnas.\n",
    "     2. Calculamos inner(A[i],B_T[j])\n",
    "    '''\n",
    "    C = []\n",
    "    B_T = traspose(B)\n",
    "    for i in range(len(A)):\n",
    "        vector_aux = []\n",
    "        for j in range(len(B_T)):\n",
    "            vector_aux.append(inner(A[i],B_T[j])) \n",
    "        C.append(vector_aux[:])\n",
    "    return C\n"
   ]
  },
  {
   "cell_type": "code",
   "execution_count": 22,
   "metadata": {},
   "outputs": [],
   "source": [
    "assert mat_mul([[1, 2], [3, 4], [5, 6]], [[1, 5], [3, 2]]) == [[7, 9], [15, 23], [23, 37]], \"Error en mat_mul\""
   ]
  },
  {
   "cell_type": "code",
   "execution_count": null,
   "metadata": {},
   "outputs": [],
   "source": []
  }
 ],
 "metadata": {
  "colab": {
   "collapsed_sections": [],
   "include_colab_link": true,
   "name": "Copia de Ejercicios.ipynb",
   "provenance": []
  },
  "kernelspec": {
   "display_name": "Python 3",
   "language": "python",
   "name": "python3"
  },
  "language_info": {
   "codemirror_mode": {
    "name": "ipython",
    "version": 3
   },
   "file_extension": ".py",
   "mimetype": "text/x-python",
   "name": "python",
   "nbconvert_exporter": "python",
   "pygments_lexer": "ipython3",
   "version": "3.7.4"
  }
 },
 "nbformat": 4,
 "nbformat_minor": 4
}
