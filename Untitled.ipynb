{
 "cells": [
  {
   "cell_type": "code",
   "execution_count": 1,
   "metadata": {},
   "outputs": [],
   "source": [
    "matriz=[[1,2],\n",
    "        [3,4],\n",
    "        [5,6]]  \n",
    "\n",
    " "
   ]
  },
  {
   "cell_type": "code",
   "execution_count": 7,
   "metadata": {},
   "outputs": [
    {
     "name": "stdout",
     "output_type": "stream",
     "text": [
      "2\n",
      "4\n",
      "6\n"
     ]
    }
   ],
   "source": [
    "for j in range(len(matriz)):\n",
    "    print(matriz[j][1]) #J son las rows y 1 es la columna"
   ]
  },
  {
   "cell_type": "code",
   "execution_count": 8,
   "metadata": {},
   "outputs": [
    {
     "name": "stdout",
     "output_type": "stream",
     "text": [
      "5\n",
      "6\n"
     ]
    }
   ],
   "source": [
    "for i in range(len(matriz[1])):\n",
    "    print(matriz[2][i]) #2 son las rows e i son las columnas"
   ]
  },
  {
   "cell_type": "code",
   "execution_count": 5,
   "metadata": {},
   "outputs": [
    {
     "name": "stdout",
     "output_type": "stream",
     "text": [
      "0\n",
      "1\n"
     ]
    }
   ],
   "source": [
    "for i in range(len(matriz[0])):\n",
    "    print(i)"
   ]
  },
  {
   "cell_type": "code",
   "execution_count": null,
   "metadata": {},
   "outputs": [],
   "source": [
    "\n",
    "\n"
   ]
  },
  {
   "cell_type": "code",
   "execution_count": null,
   "metadata": {},
   "outputs": [],
   "source": []
  },
  {
   "cell_type": "code",
   "execution_count": 14,
   "metadata": {},
   "outputs": [],
   "source": [
    "def transpuesta(M):\n",
    "    Mt=[]\n",
    "    for i in range(len(M[0])): #i es el número de columna ([0][1])\n",
    "        row=[]\n",
    "        for j in range(len(M)): #j es el número de fila\n",
    "            row.append(M[j][i])#j son rows e i son columnas\n",
    "    \n",
    "            print(M[j][i],j,i)\n",
    "        Mt.append(row)\n",
    "        \n",
    "    return Mt\n",
    "            \n",
    "                 "
   ]
  },
  {
   "cell_type": "code",
   "execution_count": 15,
   "metadata": {},
   "outputs": [
    {
     "name": "stdout",
     "output_type": "stream",
     "text": [
      "1 0 0\n",
      "3 1 0\n",
      "5 2 0\n",
      "2 0 1\n",
      "4 1 1\n",
      "6 2 1\n",
      "[[1, 3, 5], [2, 4, 6]]\n"
     ]
    }
   ],
   "source": [
    "print(transpuesta(matriz))"
   ]
  },
  {
   "cell_type": "code",
   "execution_count": 11,
   "metadata": {},
   "outputs": [
    {
     "name": "stdout",
     "output_type": "stream",
     "text": [
      "[[1, 2], [3, 4], [5, 6]]\n"
     ]
    }
   ],
   "source": [
    "print(matriz)"
   ]
  },
  {
   "cell_type": "code",
   "execution_count": null,
   "metadata": {},
   "outputs": [],
   "source": []
  },
  {
   "cell_type": "code",
   "execution_count": 11,
   "metadata": {},
   "outputs": [],
   "source": [
    "#hacer un pograma que sume la diagonal de una matriz \n",
    "#variable suma\n",
    "#iterar en filas \n",
    "#seleccionar \n",
    "\n",
    "\n",
    "def suma_m(M):\n",
    "    suma = 0\n",
    "    for i in range(len(M)):    #recorre renglones\n",
    "        for j in range(len(M[0])):  #recorre columnas\n",
    "            print(i, j)\n",
    "            if i <= j:  #con esto confirmamos que estamos en la diagonal\n",
    "                suma += M[i][j]\n",
    "    return suma            \n",
    "    \n",
    "    \n",
    "    "
   ]
  },
  {
   "cell_type": "code",
   "execution_count": 12,
   "metadata": {},
   "outputs": [
    {
     "name": "stdout",
     "output_type": "stream",
     "text": [
      "0 0\n",
      "0 1\n",
      "0 2\n",
      "0 3\n",
      "1 0\n",
      "1 1\n",
      "1 2\n",
      "1 3\n",
      "2 0\n",
      "2 1\n",
      "2 2\n",
      "2 3\n",
      "3 0\n",
      "3 1\n",
      "3 2\n",
      "3 3\n",
      "57\n"
     ]
    }
   ],
   "source": [
    "print(suma_m(m))"
   ]
  },
  {
   "cell_type": "code",
   "execution_count": 8,
   "metadata": {},
   "outputs": [],
   "source": [
    "def suma_m3(M):\n",
    "    suma = 0\n",
    "    for i in range(len(M)):    #recorre renglones\n",
    "        for j in range(i,len(M[0])):  #recorre columnas\n",
    "            print(i, j)\n",
    "            suma += M[i][j]\n",
    "    return suma "
   ]
  },
  {
   "cell_type": "code",
   "execution_count": 9,
   "metadata": {},
   "outputs": [
    {
     "name": "stdout",
     "output_type": "stream",
     "text": [
      "0 0\n",
      "0 1\n",
      "0 2\n",
      "0 3\n",
      "1 1\n",
      "1 2\n",
      "1 3\n",
      "2 2\n",
      "2 3\n",
      "3 3\n",
      "57\n"
     ]
    }
   ],
   "source": [
    "print(suma_m3(m))"
   ]
  },
  {
   "cell_type": "code",
   "execution_count": 4,
   "metadata": {},
   "outputs": [],
   "source": [
    "m = [[9,5,6,3],\n",
    "     [7,8,9,4],\n",
    "     [9,6,5,4],\n",
    "     [8,5,9,4]]\n",
    "\n",
    "#se suma : 9+8+5+4"
   ]
  },
  {
   "cell_type": "code",
   "execution_count": 5,
   "metadata": {},
   "outputs": [
    {
     "name": "stdout",
     "output_type": "stream",
     "text": [
      "26\n"
     ]
    }
   ],
   "source": [
    "print(suma_m(m))"
   ]
  },
  {
   "cell_type": "code",
   "execution_count": 6,
   "metadata": {},
   "outputs": [],
   "source": [
    "#hacer un pograma que sume la diagonal de una matriz \n",
    "#variable suma\n",
    "#iterar en filas \n",
    "#seleccionar \n",
    "\n",
    "\n",
    "def suma_m2(M):\n",
    "    suma = 0\n",
    "    for i in range(len(M)):    #recorre renglones\n",
    "        suma += M[i][i]\n",
    "    return suma "
   ]
  },
  {
   "cell_type": "code",
   "execution_count": 7,
   "metadata": {},
   "outputs": [
    {
     "name": "stdout",
     "output_type": "stream",
     "text": [
      "26\n"
     ]
    }
   ],
   "source": [
    "print(suma_m2(m))"
   ]
  },
  {
   "cell_type": "code",
   "execution_count": null,
   "metadata": {},
   "outputs": [],
   "source": []
  },
  {
   "cell_type": "code",
   "execution_count": null,
   "metadata": {},
   "outputs": [],
   "source": []
  },
  {
   "cell_type": "code",
   "execution_count": null,
   "metadata": {},
   "outputs": [],
   "source": []
  }
 ],
 "metadata": {
  "kernelspec": {
   "display_name": "Python 3",
   "language": "python",
   "name": "python3"
  },
  "language_info": {
   "codemirror_mode": {
    "name": "ipython",
    "version": 3
   },
   "file_extension": ".py",
   "mimetype": "text/x-python",
   "name": "python",
   "nbconvert_exporter": "python",
   "pygments_lexer": "ipython3",
   "version": "3.8.5"
  }
 },
 "nbformat": 4,
 "nbformat_minor": 4
}
