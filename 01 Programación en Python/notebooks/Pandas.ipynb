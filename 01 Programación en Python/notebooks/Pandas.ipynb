{
  "nbformat": 4,
  "nbformat_minor": 0,
  "metadata": {
    "colab": {
      "name": "Pandas.ipynb",
      "provenance": [],
      "collapsed_sections": [],
      "include_colab_link": true
    },
    "kernelspec": {
      "display_name": "Python 3",
      "language": "python",
      "name": "python3"
    },
    "language_info": {
      "codemirror_mode": {
        "name": "ipython",
        "version": 3
      },
      "file_extension": ".py",
      "mimetype": "text/x-python",
      "name": "python",
      "nbconvert_exporter": "python",
      "pygments_lexer": "ipython3",
      "version": "3.9.0+"
    }
  },
  "cells": [
    {
      "cell_type": "markdown",
      "metadata": {
        "id": "view-in-github",
        "colab_type": "text"
      },
      "source": [
        "<a href=\"https://colab.research.google.com/github/jhermosillo/DIPLOMADO_CDP/blob/main/01%20Programaci%C3%B3n%20en%20Python/notebooks/Pandas.ipynb\" target=\"_parent\"><img src=\"https://colab.research.google.com/assets/colab-badge.svg\" alt=\"Open In Colab\"/></a>"
      ]
    },
    {
      "cell_type": "markdown",
      "metadata": {
        "id": "CcO06esNJc49"
      },
      "source": [
        "# Pandas\n",
        "\n",
        "Pandas es un paquete de Python que provee dos estructuras de datos para el análisis de datos \"relacionales\" de manera rápida, flexible y expresiva. Pandas está construido sobre Numpy, por lo que muchas de las ventajas de utilizar Numpy se trasladan a Pandas.\n",
        "\n",
        "Pandas puede ser utilizado para trabajar con diferentes tipos de datos:\n",
        "\n",
        "* Tabulares, con datos en columnas que comparten un mismo tipo (por ejemplo, tablas de una base de datos y hojas de Excel).\n",
        "* Series de tiempo.\n",
        "* Matrices con columnas y filas etiquetadas.\n",
        "* Datos de experimentos estadísticos en general.\n"
      ]
    },
    {
      "cell_type": "code",
      "metadata": {
        "id": "3PmEICGYLh4Q"
      },
      "source": [
        "#pd es el alias comun de pandas\n",
        "import pandas as pd\n",
        "import numpy as np"
      ],
      "execution_count": null,
      "outputs": []
    },
    {
      "cell_type": "markdown",
      "metadata": {
        "id": "OTXIJU1jJoJx"
      },
      "source": [
        "# Estructuras"
      ]
    },
    {
      "cell_type": "markdown",
      "metadata": {
        "id": "95kIZu4KJf14"
      },
      "source": [
        "## Series\n",
        "\n",
        "La primera estructura de datos de Pandas son las [Series](https://pandas.pydata.org/pandas-docs/stable/reference/series.html#series). Una Serie es utilizada para arreglos 1D etiquetados con un mismo tipo de dato en todos sus elementos. Una serie es un arreglo 1D donde cada elemento tiene asignado un índice:\n",
        "\n",
        "\n",
        "| index   || |\n",
        "|---||----|\n",
        "| a || s1 |\n",
        "| b || s2 |\n",
        "| c || s3 |\n",
        "| ... || ... |"
      ]
    },
    {
      "cell_type": "code",
      "metadata": {
        "id": "_lshPHLAJf_f"
      },
      "source": [
        "#un objeto series desde una lista\n",
        "s1 = pd.Series(data=[1, 1, 2, 3, 5], index=[\"a\", \"b\", \"c\", \"d\", \"e\"])\n",
        "s1"
      ],
      "execution_count": null,
      "outputs": []
    },
    {
      "cell_type": "markdown",
      "metadata": {
        "id": "EIblWSe0JgIb"
      },
      "source": [
        "## Dataframe\n",
        "\n",
        "Los [Dataframes](https://pandas.pydata.org/pandas-docs/stable/reference/frame.html#dataframe) son la segunda estructura en Pandas, éstos son utilizados para datos 2D etiquetados (columnas con nombres generalmente). Las columnas de un Dataframe pueden tener tipos de dato diferentes. Puedes pensar en un Dataframe  como un contenedor de Series, donde cada columna es una Serie (arreglo 1D con etiquetas). Un Dataframe puede representarse como una tabla donde cada fila tiene asignado un índice y cada columna un nombre:\n",
        "\n",
        "| index\\columns  || A  | B  | C  | D  |\n",
        "|---||----|----|----|----|\n",
        "| 1 || a1 | b1 | c1 | d1 |\n",
        "| 2 || a2 | b2 | c2 | d2 |\n",
        "| 3 || a3 | b3 | c3 | d3 |"
      ]
    },
    {
      "cell_type": "code",
      "metadata": {
        "id": "6BdTW6AVJgPx"
      },
      "source": [
        "#un dataframe aleatorio con numpy random\n",
        "df = pd.DataFrame(np.random.randn(6, 4), columns=[\"A\", \"B\", \"C\", \"D\"])\n",
        "df"
      ],
      "execution_count": null,
      "outputs": []
    },
    {
      "cell_type": "markdown",
      "metadata": {
        "id": "YACVLPqmEIgV"
      },
      "source": [
        "### Axes\n",
        "\n",
        "Recuerda que los axes de un Dataframe (una tabla 2D), son los siguientes:\n",
        "\n",
        "![Numpy/Pandas axes](https://raw.githubusercontent.com/jhermosillo/DIPLOMADO_CDP/main/01%20Programaci%C3%B3n%20en%20Python/images/axes.png)"
      ]
    },
    {
      "cell_type": "markdown",
      "metadata": {
        "id": "amSx3Uy5Jgs_"
      },
      "source": [
        "# Creación y almacenamiento"
      ]
    },
    {
      "cell_type": "markdown",
      "metadata": {
        "id": "Efe8EN4EUNr6"
      },
      "source": [
        "## Creación desde diccionarios de listas"
      ]
    },
    {
      "cell_type": "code",
      "metadata": {
        "id": "W3sLNcoIKZ5t"
      },
      "source": [
        "#Un diccionario de python\n",
        "dict1 = {'pais': ['Mexico',\n",
        "'EUA', \"Francia\"], 'continente': [\"America\", \"America\", \"Europa\"], 'poblacion': [129, 325, 67]}\n",
        "\n",
        "paises = pd.DataFrame(dict1)\n",
        "paises"
      ],
      "execution_count": null,
      "outputs": []
    },
    {
      "cell_type": "markdown",
      "metadata": {
        "id": "t0IUUYdWKaQ7"
      },
      "source": [
        "## Creación desde diccionario anidado"
      ]
    },
    {
      "cell_type": "code",
      "metadata": {
        "id": "oPN4K2gSMH8U"
      },
      "source": [
        "#Un diccionario anidado de python\n",
        "#las claves anidadas especifican el indice de las filas\n",
        "dict2 = {'pais': {\"p1\": 'Mexico',\n",
        "\"p2\": 'EUA', \"p3\": \"Francia\"}, 'continente': {\"p1\": \"America\", \"p2\": \"America\", \"p3\": \"Europa\"}, 'poblacion': {\"p1\": 129, \"p2\": 325, \"p3\": 67}}\n",
        "\n",
        "paises = pd.DataFrame(dict2)\n",
        "paises"
      ],
      "execution_count": null,
      "outputs": []
    },
    {
      "cell_type": "markdown",
      "metadata": {
        "id": "vEl2HU6hUKBk"
      },
      "source": [
        "## Creación desde archivos csv"
      ]
    },
    {
      "cell_type": "code",
      "metadata": {
        "id": "zYIeBGnrNupt"
      },
      "source": [
        "!ls sample_data/"
      ],
      "execution_count": null,
      "outputs": []
    },
    {
      "cell_type": "code",
      "metadata": {
        "id": "SW7PjbOONhIn"
      },
      "source": [
        "#leamos un archivo csv almacenado por colab\n",
        "cali_housing = pd.read_csv(\"sample_data/california_housing_test.csv\", nrows=10)\n",
        "cali_housing"
      ],
      "execution_count": null,
      "outputs": []
    },
    {
      "cell_type": "markdown",
      "metadata": {
        "id": "2elveR7cNUJW"
      },
      "source": [
        "## Creación desde archivos excel"
      ]
    },
    {
      "cell_type": "code",
      "metadata": {
        "id": "UswNxhhtruT6"
      },
      "source": [
        "# Cargar un archivo de excel a colab desde github\n",
        "!curl --remote-name \\\n",
        "     -H 'Accept: application/vnd.github.v3.raw' \\\n",
        "     --location https://github.com/jhermosillo/DIPLOMADO_CDP/blob/main/01%20Programaci%C3%B3n%20en%20Python/data/california_housing_test.xlsx"
      ],
      "execution_count": null,
      "outputs": []
    },
    {
      "cell_type": "code",
      "metadata": {
        "id": "-13jjqLENhe1"
      },
      "source": [
        "#cargar el archivo en formato xls a un pandas dataframe\n",
        "cali_housing = pd.read_excel(\"california_housing_test.xlsx\", index_col=0, header_col=0)\n",
        "cali_housing"
      ],
      "execution_count": null,
      "outputs": []
    },
    {
      "cell_type": "markdown",
      "metadata": {
        "id": "PDkNmW3rUKFD"
      },
      "source": [
        "## Persistencia a disco"
      ]
    },
    {
      "cell_type": "code",
      "metadata": {
        "id": "Tiz6wLPAJgx3"
      },
      "source": [
        "cali_housing.to_csv(\"cali_housing.csv\")\n",
        "#o en formato de excel:\n",
        "cali_housing.to_excel(\"cali_housing.xlsx\")"
      ],
      "execution_count": null,
      "outputs": []
    },
    {
      "cell_type": "markdown",
      "metadata": {
        "id": "J9cBi012RwX2"
      },
      "source": [
        "Ahora se crearon dos archivos en colab"
      ]
    },
    {
      "cell_type": "code",
      "metadata": {
        "id": "vA-S4UqPRtaB"
      },
      "source": [
        "!ls"
      ],
      "execution_count": null,
      "outputs": []
    },
    {
      "cell_type": "markdown",
      "metadata": {
        "id": "2Aa7Hoa69D2P"
      },
      "source": [
        "## Otros formatos\n",
        "\n",
        "Además de los ya mencionados, Pandas permite leer y escribir en formatos comúnes como:\n",
        "\n",
        "* JSON\n",
        "* HTML\n",
        "* Parquet\n",
        "* SQL\n",
        "* BigQuery\n",
        "\n",
        "Puedes ver la lista completa en la [documentación de Pandas](https://pandas.pydata.org/pandas-docs/stable/user_guide/io.html#io-tools-text-csv-hdf5)."
      ]
    },
    {
      "cell_type": "markdown",
      "metadata": {
        "id": "BIZpbhUppe62"
      },
      "source": [
        "# Accediendo a los datos"
      ]
    },
    {
      "cell_type": "markdown",
      "metadata": {
        "id": "YYvyNYxymZcV"
      },
      "source": [
        "## info()\n",
        "\n",
        "El método [```info()```](https://pandas.pydata.org/pandas-docs/stable/reference/api/pandas.DataFrame.info.html) puede usarse para mostrar la información general del objeto de Pandas, como el índice y los tipos de datos usados."
      ]
    },
    {
      "cell_type": "code",
      "metadata": {
        "id": "W2IlfVfaQdb4"
      },
      "source": [
        "cali_housing.info()"
      ],
      "execution_count": null,
      "outputs": []
    },
    {
      "cell_type": "markdown",
      "metadata": {
        "id": "wboMyaQ4ltYo"
      },
      "source": [
        "## head() y tail()\n",
        "\n",
        "Los métodos [```head()```](https://pandas.pydata.org/pandas-docs/stable/reference/api/pandas.DataFrame.head.html) y [```tail()```](https://pandas.pydata.org/pandas-docs/stable/reference/api/pandas.DataFrame.tail.html#pandas.DataFrame.tail) devuelven una pequeña muestra de los primeros o últimos elementos de un objeto Series o Dataframe. Ambas pueden recibir como parámetro el número de elementos que se desean visualizar, por defecto es igual a 5."
      ]
    },
    {
      "cell_type": "code",
      "metadata": {
        "id": "8w1nVek4ltdb"
      },
      "source": [
        "cali_housing.head()"
      ],
      "execution_count": null,
      "outputs": []
    },
    {
      "cell_type": "code",
      "metadata": {
        "id": "jXLeXz3SmL2g"
      },
      "source": [
        "cali_housing.tail(3)"
      ],
      "execution_count": null,
      "outputs": []
    },
    {
      "cell_type": "markdown",
      "metadata": {
        "id": "0noSgAwmbj6S"
      },
      "source": [
        "## sample()\n",
        "\n",
        "[```df.sample()```](https://pandas.pydata.org/pandas-docs/stable/reference/api/pandas.DataFrame.sample.html) retorna una muestra aleatoria del objeto."
      ]
    },
    {
      "cell_type": "code",
      "metadata": {
        "id": "Zs2159iMbkAL"
      },
      "source": [
        "cali_housing.sample(n=3)"
      ],
      "execution_count": null,
      "outputs": []
    },
    {
      "cell_type": "markdown",
      "metadata": {
        "id": "9rFDtUgonaCT"
      },
      "source": [
        "## index\n",
        "\n",
        "El atributo [```df.index```](https://pandas.pydata.org/pandas-docs/stable/reference/api/pandas.DataFrame.index.html) regresa el índice del objeto de Pandas."
      ]
    },
    {
      "cell_type": "code",
      "metadata": {
        "id": "Apbkp5B-naHD"
      },
      "source": [
        "cali_housing.index"
      ],
      "execution_count": null,
      "outputs": []
    },
    {
      "cell_type": "markdown",
      "metadata": {
        "id": "HDC-5YyqnaOV"
      },
      "source": [
        "## df.columns\n",
        "\n",
        "El atributo [```df.columns```](https://pandas.pydata.org/pandas-docs/stable/reference/api/pandas.DataFrame.columns.html) de un DataFrame devuelve las columnas del mismo."
      ]
    },
    {
      "cell_type": "code",
      "metadata": {
        "id": "sNVXAfLQnaSS"
      },
      "source": [
        "cali_housing.columns"
      ],
      "execution_count": null,
      "outputs": []
    },
    {
      "cell_type": "markdown",
      "metadata": {
        "id": "9WdqAWo7oDwj"
      },
      "source": [
        "## df.describe()\n",
        "\n",
        "El método [```describe()```](https://pandas.pydata.org/pandas-docs/stable/reference/api/pandas.DataFrame.describe.html) regresa un resúmen estadístico del objeto."
      ]
    },
    {
      "cell_type": "code",
      "metadata": {
        "id": "qwaMTDgKoD1D"
      },
      "source": [
        "cali_housing.describe()"
      ],
      "execution_count": null,
      "outputs": []
    },
    {
      "cell_type": "markdown",
      "metadata": {
        "id": "AqJUI2dwQdL-"
      },
      "source": [
        "# Selección - asignación"
      ]
    },
    {
      "cell_type": "markdown",
      "metadata": {
        "id": "aStR2xhVs5oo"
      },
      "source": [
        "## Seleccionando columnas\n",
        "\n",
        "Puedes usar dos notaciones para seleccionar una columna de un DataFrame, cualquiera de éstas devolverá un objeto Series.\n",
        "\n",
        "\n",
        "\n",
        "```\n",
        "df.[\"A\"]\n",
        "```\n",
        "\n",
        "o\n",
        "\n",
        "\n",
        "\n",
        "```\n",
        "df.A\n",
        "```\n",
        "\n",
        "\n",
        "\n"
      ]
    },
    {
      "cell_type": "code",
      "metadata": {
        "id": "AoTIBTUas5sm"
      },
      "source": [
        "#seleccionar la columna devuelve un objeto Series\n",
        "cali_housing[\"latitude\"]"
      ],
      "execution_count": null,
      "outputs": []
    },
    {
      "cell_type": "code",
      "metadata": {
        "id": "R5__s0jktINE"
      },
      "source": [
        "#usa segunda opcion para seleccionar columnas\n",
        "cali_housing.latitude"
      ],
      "execution_count": null,
      "outputs": []
    },
    {
      "cell_type": "code",
      "metadata": {
        "id": "aL5laUlqKL6F"
      },
      "source": [
        "#seleccionando una columna como un dataframe\n",
        "cali_housing[[\"latitude\"]]"
      ],
      "execution_count": null,
      "outputs": []
    },
    {
      "cell_type": "markdown",
      "metadata": {
        "id": "CjqwQ2SFvO8-"
      },
      "source": [
        "Seleccionando múltiples columnas\n",
        "\n",
        "\n",
        "\n",
        "```\n",
        "df[[\"A\", ...]]\n",
        "```\n",
        "\n"
      ]
    },
    {
      "cell_type": "code",
      "metadata": {
        "id": "VvnPz531vPDZ"
      },
      "source": [
        "cali_housing[[\"longitude\", \"latitude\"]]"
      ],
      "execution_count": null,
      "outputs": []
    },
    {
      "cell_type": "markdown",
      "metadata": {
        "id": "CxB5qTZys52B"
      },
      "source": [
        "## Seleccionando filas con slicing"
      ]
    },
    {
      "cell_type": "code",
      "metadata": {
        "id": "t10uKI8Ss56d"
      },
      "source": [
        "cali_housing[0:3]"
      ],
      "execution_count": null,
      "outputs": []
    },
    {
      "cell_type": "markdown",
      "metadata": {
        "id": "jsZdWJbmu55Y"
      },
      "source": [
        "## Selección con etiquetas loc"
      ]
    },
    {
      "cell_type": "code",
      "metadata": {
        "id": "cAFiM2puu5-4"
      },
      "source": [
        "cali_housing.loc[:, \"total_rooms\":\"households\"]"
      ],
      "execution_count": null,
      "outputs": []
    },
    {
      "cell_type": "markdown",
      "metadata": {
        "id": "oCHwl3yuvCch"
      },
      "source": [
        "## Selección con enteros iloc"
      ]
    },
    {
      "cell_type": "code",
      "metadata": {
        "id": "zYt4MKkUvCi2"
      },
      "source": [
        "cali_housing.iloc[:, 6:]"
      ],
      "execution_count": null,
      "outputs": []
    },
    {
      "cell_type": "markdown",
      "metadata": {
        "id": "dj7r1S5_o7Mw"
      },
      "source": [
        "## Asignación por rango"
      ]
    },
    {
      "cell_type": "code",
      "metadata": {
        "id": "MRN2Ykxzo_Rv"
      },
      "source": [
        "#primero agregamos una columna random inicializada a 0\n",
        "cali_housing[\"random\"] = 0.0\n",
        "#reasignamos usando np.random\n",
        "cali_housing.loc[:, \"random\"] = np.random.randn(cali_housing.shape[0])\n",
        "cali_housing"
      ],
      "execution_count": null,
      "outputs": []
    },
    {
      "cell_type": "markdown",
      "metadata": {
        "id": "CHV9n0JBAUr_"
      },
      "source": [
        "## Selección con indexación booleana"
      ]
    },
    {
      "cell_type": "code",
      "metadata": {
        "id": "jT8B09O6AUwh"
      },
      "source": [
        "cali_housing[cali_housing[\"population\"] > 1000]"
      ],
      "execution_count": null,
      "outputs": []
    },
    {
      "cell_type": "markdown",
      "metadata": {
        "id": "PDy5UYHRDQQ9"
      },
      "source": [
        "## Selección de celdas con at y iat"
      ]
    },
    {
      "cell_type": "markdown",
      "metadata": {
        "id": "TXG-TXOBKiWz"
      },
      "source": [
        "[```at```](https://pandas.pydata.org/pandas-docs/stable/reference/api/pandas.DataFrame.at.html) utiliza etiquetas para seleccionar elementos:"
      ]
    },
    {
      "cell_type": "code",
      "metadata": {
        "id": "is4bKkN9DQYE"
      },
      "source": [
        "cali_housing.at[0, \"housing_median_age\"]"
      ],
      "execution_count": null,
      "outputs": []
    },
    {
      "cell_type": "markdown",
      "metadata": {
        "id": "QvT-XktzKjHr"
      },
      "source": [
        "[```iat```](https://pandas.pydata.org/pandas-docs/stable/reference/api/pandas.DataFrame.iat.html#pandas.DataFrame.iat) utiliza enteros para seleccionar elementos:"
      ]
    },
    {
      "cell_type": "code",
      "metadata": {
        "id": "LdKMvBAHKrtI"
      },
      "source": [
        "cali_housing.iat[1, 4]"
      ],
      "execution_count": null,
      "outputs": []
    },
    {
      "cell_type": "markdown",
      "metadata": {
        "id": "-KhyFcrLo102"
      },
      "source": [
        "## Asignación elemento"
      ]
    },
    {
      "cell_type": "markdown",
      "metadata": {
        "id": "mbKBHIY1Pvc2"
      },
      "source": [
        "También puedes cambir el contenido de las celdas directamente mediante asignación:"
      ]
    },
    {
      "cell_type": "code",
      "metadata": {
        "id": "B-pJidvUP5BL"
      },
      "source": [
        "cali_housing.iat[1, 4] = 200.0\n",
        "cali_housing"
      ],
      "execution_count": null,
      "outputs": []
    },
    {
      "cell_type": "markdown",
      "metadata": {
        "id": "I9ok7Tv_9_Fo"
      },
      "source": [
        "## Otros\n",
        "Otros métodos de selección que podrían ser útiles:\n",
        "\n",
        "* [```idxmax()```](https://pandas.pydata.org/pandas-docs/stable/reference/api/pandas.DataFrame.idxmax.html)\n",
        "* [```idxmin()```](https://pandas.pydata.org/pandas-docs/stable/reference/api/pandas.DataFrame.idxmin.html#pandas.DataFrame.idxmin)\n",
        "* [```filter()```](https://pandas.pydata.org/pandas-docs/stable/reference/api/pandas.DataFrame.filter.html)\n",
        "* [```take()```](https://pandas.pydata.org/pandas-docs/stable/reference/api/pandas.DataFrame.take.html)\n",
        "* [```truncate()```](https://pandas.pydata.org/pandas-docs/stable/reference/api/pandas.DataFrame.truncate.html)\n",
        "\n",
        "Puedes ver la lista completa de métodos para la selección, re-indexado y manipulación de etiquetas en la [documentación de Pandas](https://pandas.pydata.org/docs/reference/frame.html#reindexing-selection-label-manipulation)."
      ]
    },
    {
      "cell_type": "markdown",
      "metadata": {
        "id": "XS-y991zSHto"
      },
      "source": [
        "# Atributos\n",
        "\n",
        "* [```df.T```](https://pandas.pydata.org/pandas-docs/stable/reference/api/pandas.DataFrame.T.html)\n",
        "* [```df.axes```](https://pandas.pydata.org/pandas-docs/stable/reference/api/pandas.DataFrame.axes.html#pandas.DataFrame.axes)\n",
        "* [```df.dtypes```](https://pandas.pydata.org/pandas-docs/stable/reference/api/pandas.DataFrame.dtypes.html#pandas.DataFrame.dtypes)\n",
        "* [```df.shape```](https://pandas.pydata.org/pandas-docs/stable/reference/api/pandas.DataFrame.shape.html#pandas.DataFrame.shape)\n",
        "* [```df.size```](https://pandas.pydata.org/pandas-docs/stable/reference/api/pandas.DataFrame.size.html#pandas.DataFrame.size)\n",
        "* [```df.values```](https://pandas.pydata.org/pandas-docs/stable/reference/api/pandas.DataFrame.values.html#pandas.DataFrame.values)"
      ]
    },
    {
      "cell_type": "markdown",
      "metadata": {
        "id": "Od7ystmNLEZ2"
      },
      "source": [
        "## df.T\n",
        "\n",
        "La transpuesta de df (filas y columnas intercambiadas):"
      ]
    },
    {
      "cell_type": "code",
      "metadata": {
        "id": "T-geuTelA-kY"
      },
      "source": [
        "#Los indices pasan a ser los nombres de las columnas, las columnas a indices\n",
        "cali_housing.T"
      ],
      "execution_count": null,
      "outputs": []
    },
    {
      "cell_type": "markdown",
      "metadata": {
        "id": "7jTK7OIILPGv"
      },
      "source": [
        "## df.axes\n",
        "\n",
        "Retorna información sobre los axes que componen al objeto:\n"
      ]
    },
    {
      "cell_type": "code",
      "metadata": {
        "id": "DFBm4zEvLezZ"
      },
      "source": [
        "cali_housing.axes"
      ],
      "execution_count": null,
      "outputs": []
    },
    {
      "cell_type": "markdown",
      "metadata": {
        "id": "yWLJ_QrBLPNg"
      },
      "source": [
        "## df.dtypes\n",
        "\n",
        "Retorna los tipos de datos utilizados por el objeto:"
      ]
    },
    {
      "cell_type": "code",
      "metadata": {
        "id": "VmixPgzyLw2s"
      },
      "source": [
        "cali_housing.dtypes"
      ],
      "execution_count": null,
      "outputs": []
    },
    {
      "cell_type": "markdown",
      "metadata": {
        "id": "UM0jUGlRLUIi"
      },
      "source": [
        "## df.shape\n",
        "\n",
        "La forma del objeto (número de filas y columnas en un DataFrame):"
      ]
    },
    {
      "cell_type": "code",
      "metadata": {
        "id": "W8GN4lewL48N"
      },
      "source": [
        "cali_housing.shape"
      ],
      "execution_count": null,
      "outputs": []
    },
    {
      "cell_type": "markdown",
      "metadata": {
        "id": "FfWUXPnoLUM0"
      },
      "source": [
        "## df.size\n",
        "\n",
        "El número de elementos en el objeto (número de celdas en un DataFrame):"
      ]
    },
    {
      "cell_type": "code",
      "metadata": {
        "id": "g094BaXSL73J"
      },
      "source": [
        "cali_housing.size"
      ],
      "execution_count": null,
      "outputs": []
    },
    {
      "cell_type": "markdown",
      "metadata": {
        "id": "W3JaXU6jLcnB"
      },
      "source": [
        "## df.values\n",
        "\n",
        "Retorna el objeto de Pandas como un arreglo de Numpy:"
      ]
    },
    {
      "cell_type": "code",
      "metadata": {
        "id": "zkLZjQPnL-Vo"
      },
      "source": [
        "df.values"
      ],
      "execution_count": null,
      "outputs": []
    },
    {
      "cell_type": "markdown",
      "metadata": {
        "id": "xhUkS2LaQgJb"
      },
      "source": [
        "# Eliminación\n"
      ]
    },
    {
      "cell_type": "markdown",
      "metadata": {
        "id": "RQqR-sPNRM-t"
      },
      "source": [
        "## Remover filas o columnas con df.drop()\n",
        "\n",
        "El método [```drop()```](https://pandas.pydata.org/pandas-docs/stable/reference/api/pandas.DataFrame.drop.html) permite eliminar filas o columnas al especificar el axis correspondiente, puedes eliminar más de una usando una lista como parámetro:"
      ]
    },
    {
      "cell_type": "code",
      "metadata": {
        "id": "9P80knKTRNLQ"
      },
      "source": [
        "#primero agregamos dos nuevas columnas\n",
        "cali_housing[\"temp\"] = \"temp\"\n",
        "cali_housing[\"temp2\"] = cali_housing[\"temp\"] + \"2\"\n",
        "cali_housing"
      ],
      "execution_count": null,
      "outputs": []
    },
    {
      "cell_type": "markdown",
      "metadata": {
        "id": "ZZ2h7ayddnQ-"
      },
      "source": [
        "Eliminar columnas con axis = 1"
      ]
    },
    {
      "cell_type": "code",
      "metadata": {
        "id": "5jwbMO9Xdnen"
      },
      "source": [
        "#drop devuelve un nuevo dataframe sin la columna\n",
        "df = cali_housing.drop([\"temp\", \"temp2\"], axis=1)\n",
        "df"
      ],
      "execution_count": null,
      "outputs": []
    },
    {
      "cell_type": "markdown",
      "metadata": {
        "id": "4skGg56odnlF"
      },
      "source": [
        "Eliminar filas con axis = 0"
      ]
    },
    {
      "cell_type": "code",
      "metadata": {
        "id": "8ygP00w8dnsS"
      },
      "source": [
        "#drop devuelve un nuevo dataframe sin la fila\n",
        "df = cali_housing.drop([5,7,9], axis=0)\n",
        "df"
      ],
      "execution_count": null,
      "outputs": []
    },
    {
      "cell_type": "markdown",
      "metadata": {
        "id": "93ha10yDA-fF"
      },
      "source": [
        "## Remover columnas con ```del```\n",
        "\n",
        "Puedes usar la notación _del df[col_name]_ para eliminar una columna directamente de un DataFrame:"
      ]
    },
    {
      "cell_type": "code",
      "metadata": {
        "id": "bwpoq_9TQgPF"
      },
      "source": [
        "#el dataframe original no ha sido alterado\n",
        "#aun contiene las columnas temporales\n",
        "cali_housing"
      ],
      "execution_count": null,
      "outputs": []
    },
    {
      "cell_type": "code",
      "metadata": {
        "id": "pmVacTmiQg-j"
      },
      "source": [
        "#eliminamos la nueva columna temp con del directamente en el df\n",
        "del cali_housing[\"temp\"]\n",
        "cali_housing"
      ],
      "execution_count": null,
      "outputs": []
    },
    {
      "cell_type": "code",
      "metadata": {
        "id": "sr9fkAPWhwhd"
      },
      "source": [
        "#del elimina una columna a la vez\n",
        "# llamemos del una segunda vez para eliminar temp2\n",
        "del cali_housing[\"temp2\"]\n",
        "cali_housing"
      ],
      "execution_count": null,
      "outputs": []
    },
    {
      "cell_type": "markdown",
      "metadata": {
        "id": "Dkzdjyk3VZL_"
      },
      "source": [
        "# Datos faltantes"
      ]
    },
    {
      "cell_type": "markdown",
      "metadata": {
        "id": "ySNj8BT8qkI0"
      },
      "source": [
        "En Pandas, los [```valores faltantes```](https://pandas.pydata.org/pandas-docs/stable/user_guide/missing_data.html) son representado con el valor NaN (de Not a Number). Cuando existen valores faltantes, muchas veces es necesario eliminarlar las entradas que los contienen o reemplazarlos por valores antes de empezar a trabajar con los datos. Pandas provee algunos métodos para realizar este tipo de tareas."
      ]
    },
    {
      "cell_type": "code",
      "metadata": {
        "id": "iymXcdS3uvTB"
      },
      "source": [
        "#creando un dataframe con datos faltantes\n",
        "df = pd.DataFrame(np.random.randn(5, 3), index=['a', 'c', 'e', 'f', 'h'], columns=['A', 'B', 'C'])\n",
        "df['D'] = df['A'] > 0\n",
        "df = df.reindex(['a', 'b', 'c', 'd', 'e', 'f', 'g', 'h'])\n",
        "df"
      ],
      "execution_count": null,
      "outputs": []
    },
    {
      "cell_type": "markdown",
      "metadata": {
        "id": "JOQ6eWscx3Zm"
      },
      "source": [
        "## df.isna()\n",
        "\n",
        "El método [```df.isna()```](https://pandas.pydata.org/pandas-docs/stable/reference/api/pandas.DataFrame.isna.html) funciona para conocer si el objeto contiene valores faltantes. Regresa un objeto con elementos booleanos que indican la existencia de datos faltantes."
      ]
    },
    {
      "cell_type": "code",
      "metadata": {
        "id": "Cvk6XMVSx3eN"
      },
      "source": [
        "df.isna()"
      ],
      "execution_count": null,
      "outputs": []
    },
    {
      "cell_type": "markdown",
      "metadata": {
        "id": "4k7fCgEYqkav"
      },
      "source": [
        "## df.dropna()\n",
        "\n",
        "El método [```dropna()```](https://pandas.pydata.org/pandas-docs/stable/reference/api/pandas.DataFrame.dropna.html) permite eliminar del DataFrame las filas o columnas que contienen uno o más elementos NaN.\n",
        "\n",
        "Los principales parámetros de dropna():\n",
        "\n",
        "```\n",
        "axis : {0 o 'index', 1 o 'columns'}, por defecto 0\n",
        "        Determina si elimina filas o columnas que contienen\n",
        "        valores faltantes.\n",
        "    \n",
        "how : {'any', 'all'}, por defecto 'any'\n",
        "    Determina si se elimina la fila o columna cuando contiene al menos un valor faltante o solo si todos sus valores son faltantes.\n",
        "\n",
        "    * 'any' : Si hay un valor faltante, elimina la fila o columna.\n",
        "    * 'all' : Si todos los valores son faltantes, elimina la fila o columna.\n",
        "    \n",
        "thresh : int, opcional\n",
        "    Requirir al menos ese número de valores faltantes para eliminar la fila o columna.\n",
        "```\n",
        "\n"
      ]
    },
    {
      "cell_type": "code",
      "metadata": {
        "id": "FlsVq2-fBpXE"
      },
      "source": [
        "df.dropna(axis=0, how='any')"
      ],
      "execution_count": null,
      "outputs": []
    },
    {
      "cell_type": "code",
      "metadata": {
        "id": "efPiUeddzm4H"
      },
      "source": [
        "#insertando un nuevo nan\n",
        "df.iat[0, 0] = np.nan"
      ],
      "execution_count": null,
      "outputs": []
    },
    {
      "cell_type": "markdown",
      "metadata": {
        "id": "_zrR_L4g7r_5"
      },
      "source": [
        "Usando ```all``` con ```axis=0``` elimina filas donde todos los elementos faltan:"
      ]
    },
    {
      "cell_type": "code",
      "metadata": {
        "id": "byjfnMF0zkyG"
      },
      "source": [
        "df.dropna(axis = 0, how='all')"
      ],
      "execution_count": null,
      "outputs": []
    },
    {
      "cell_type": "markdown",
      "metadata": {
        "id": "hQPlZclY7iLP"
      },
      "source": [
        "Usando ```any``` con axis=0, elimina las filas con uno o más faltantes:"
      ]
    },
    {
      "cell_type": "code",
      "metadata": {
        "id": "uBrcxqKn7lMM"
      },
      "source": [
        "df.dropna(axis=0, how=\"any\")"
      ],
      "execution_count": null,
      "outputs": []
    },
    {
      "cell_type": "markdown",
      "metadata": {
        "id": "UKjCKWaO8Avy"
      },
      "source": [
        "Agregamos una nueva columna con todos los elementos ```NaN```:"
      ]
    },
    {
      "cell_type": "code",
      "metadata": {
        "id": "DWBwmsi58BYR"
      },
      "source": [
        "df[\"empty_col\"] = np.nan\n",
        "df"
      ],
      "execution_count": null,
      "outputs": []
    },
    {
      "cell_type": "markdown",
      "metadata": {
        "id": "VPZBTo1-8SFj"
      },
      "source": [
        "Eliminando la columna con ```axis=1``` y ```how=all```:"
      ]
    },
    {
      "cell_type": "code",
      "metadata": {
        "id": "0hnbfM_G8aZ_"
      },
      "source": [
        "# La columna con solo ```NaN``` sera eliminada por completo\n",
        "df.dropna(axis=1, how=\"all\")"
      ],
      "execution_count": null,
      "outputs": []
    },
    {
      "cell_type": "markdown",
      "metadata": {
        "id": "NHj2kDTSqk35"
      },
      "source": [
        "## df.fillna()\n",
        "\n",
        "El método [```df.fillna()```](https://pandas.pydata.org/pandas-docs/stable/reference/api/pandas.DataFrame.fillna.html) permite reemplazar los valores faltantes en un DataFrame por otro valor.\n",
        "\n",
        "Los principales parámetros de fillna():\n",
        "\n",
        "```\n",
        "value : escalar, diccionario, Series, o un DataFrame\n",
        "    El valor utilizado para reemplazar los faltantes.\n",
        "    Si es un diccionario, una serie o un dataframe, entonces\n",
        "    se utiliza el valor asociado a la clave, indice o columna asociada.\n",
        "\n",
        "method : {'backfill', 'bfill', 'pad', 'ffill', None}, por defecto None\n",
        "    El método utilizado para rellenar los espacios vacios.\n",
        "    * pad / ffill: usa el ultimo valor valido para rellenar \n",
        "    hacia adelante hasta el siguiente valor valido.\n",
        "    * backfill / bfill: utilizar la siguiente observacion \n",
        "    valida para rellenar.\n",
        "\n",
        "axis : {0 or 'index', 1 or 'columns'}\n",
        "```\n",
        "\n"
      ]
    },
    {
      "cell_type": "markdown",
      "metadata": {
        "id": "k6qhxeg1_Lg3"
      },
      "source": [
        "Reemplazar todos los faltantes por un escalar:"
      ]
    },
    {
      "cell_type": "code",
      "metadata": {
        "id": "_jBS1p9SqlHi"
      },
      "source": [
        "# fillna con escalar\n",
        "df.fillna(0.0)"
      ],
      "execution_count": null,
      "outputs": []
    },
    {
      "cell_type": "markdown",
      "metadata": {
        "id": "uP56VW9L_QPm"
      },
      "source": [
        "Reemplazar usando un dicccionario para las columnas de un Dataframe:"
      ]
    },
    {
      "cell_type": "code",
      "metadata": {
        "id": "ijAQd576yuK6"
      },
      "source": [
        "# usando un diccionario para reemplazar con un valor diferente cada columna\n",
        "df.fillna({'A': 0.0, 'B': 0.0, 'C': 0.0, 'D': False})"
      ],
      "execution_count": null,
      "outputs": []
    },
    {
      "cell_type": "markdown",
      "metadata": {
        "id": "yFhnS9mT_VRM"
      },
      "source": [
        "Con un diccionario para los índices de una Serie:"
      ]
    },
    {
      "cell_type": "code",
      "metadata": {
        "id": "VgD276Pt_XWA"
      },
      "source": [
        "df[\"A\"].fillna({'a':0.0, 'b':1.0, 'c':2.0})"
      ],
      "execution_count": null,
      "outputs": []
    },
    {
      "cell_type": "markdown",
      "metadata": {
        "id": "fBPVGWfIBbgC"
      },
      "source": [
        "Forward Fill:"
      ]
    },
    {
      "cell_type": "markdown",
      "metadata": {
        "id": "Vp8Q7xQKBi4-"
      },
      "source": [
        "```axis = 0``` por defecto (por columnas, siguiendo el index):"
      ]
    },
    {
      "cell_type": "code",
      "metadata": {
        "id": "QVYrcfyTBhcc"
      },
      "source": [
        "df.fillna(method='ffill',)"
      ],
      "execution_count": null,
      "outputs": []
    },
    {
      "cell_type": "markdown",
      "metadata": {
        "id": "KtUz5njNBjVv"
      },
      "source": [
        "```axis=1``` (por filas):"
      ]
    },
    {
      "cell_type": "code",
      "metadata": {
        "id": "fXk8JZpHCDGr"
      },
      "source": [
        "# un nuevo elemento faltante en la fila c columnas C\n",
        "df.iat[2, 2] = np.NaN\n",
        "df"
      ],
      "execution_count": null,
      "outputs": []
    },
    {
      "cell_type": "code",
      "metadata": {
        "id": "qiJaI1CCxnU0"
      },
      "source": [
        "# rellenando de izq a der por filas\n",
        "df.fillna(method='ffill', axis=1)"
      ],
      "execution_count": null,
      "outputs": []
    },
    {
      "cell_type": "markdown",
      "metadata": {
        "id": "ZQZk68YQBeNa"
      },
      "source": [
        "Back Fill:"
      ]
    },
    {
      "cell_type": "markdown",
      "metadata": {
        "id": "aXncjc8ECcFK"
      },
      "source": [
        "```axis=0``` por defecto (por columnas):"
      ]
    },
    {
      "cell_type": "code",
      "metadata": {
        "id": "-jsnbmSbxncu"
      },
      "source": [
        "# rellena de abajo hacia arriba por columnas\n",
        "df.fillna(method='bfill')"
      ],
      "execution_count": null,
      "outputs": []
    },
    {
      "cell_type": "markdown",
      "metadata": {
        "id": "Dal0eOCkCj5s"
      },
      "source": [
        "```axis=1``` (por filas):"
      ]
    },
    {
      "cell_type": "code",
      "metadata": {
        "id": "XieYa65XCkYN"
      },
      "source": [
        "# rellena de der a izq por filas\n",
        "df.fillna(method='bfill', axis=1)"
      ],
      "execution_count": null,
      "outputs": []
    },
    {
      "cell_type": "markdown",
      "metadata": {
        "id": "7orBVhvQSHzT"
      },
      "source": [
        "# Métodos Utilitarios\n",
        "\n",
        "* [```df.copy()```](https://pandas.pydata.org/pandas-docs/stable/reference/api/pandas.DataFrame.copy.html)\n",
        "* [```df.sort_values([ascending=True|False])```](https://pandas.pydata.org/pandas-docs/stable/reference/api/pandas.DataFrame.sort_values.html)\n",
        "* [```df.sort_index([ascending=True|False])```](https://pandas.pydata.org/pandas-docs/stable/reference/api/pandas.DataFrame.sort_index.html#pandas.DataFrame.sort_index)"
      ]
    },
    {
      "cell_type": "markdown",
      "metadata": {
        "id": "aUdj9iOdjSsF"
      },
      "source": [
        "## df.copy()\n",
        "\n",
        "Crea una copia profunda (por defecto) del objeto:"
      ]
    },
    {
      "cell_type": "code",
      "metadata": {
        "id": "_ylxot4wjMrA"
      },
      "source": [
        "df = cali_housing.copy()\n",
        "df.head()"
      ],
      "execution_count": null,
      "outputs": []
    },
    {
      "cell_type": "markdown",
      "metadata": {
        "id": "FEV5a_-5DEZg"
      },
      "source": [
        "Ahora modificar ```df``` no afectará a ```cali_housing``` y viceversa."
      ]
    },
    {
      "cell_type": "markdown",
      "metadata": {
        "id": "5W8QRU4ajQCl"
      },
      "source": [
        "## df.sort_values()\n",
        "\n",
        "Ordenar usando los valores en el Dataframe:"
      ]
    },
    {
      "cell_type": "code",
      "metadata": {
        "id": "I5dyrY1xjQLY"
      },
      "source": [
        "df.sort_values(\"housing_median_age\")"
      ],
      "execution_count": null,
      "outputs": []
    },
    {
      "cell_type": "markdown",
      "metadata": {
        "id": "-VLNFaxjC3F3"
      },
      "source": [
        "Ordenar usando más de una columna:"
      ]
    },
    {
      "cell_type": "code",
      "metadata": {
        "id": "y0yV-eAvC3eo"
      },
      "source": [
        "df.sort_values([\"housing_median_age\", \"households\"])"
      ],
      "execution_count": null,
      "outputs": []
    },
    {
      "cell_type": "markdown",
      "metadata": {
        "id": "Zet4Wt7DjQaP"
      },
      "source": [
        "## df.sort_index()\n",
        "\n",
        "Ordenar usando los índices del Dataframe/Series:"
      ]
    },
    {
      "cell_type": "code",
      "metadata": {
        "id": "E0eodMQRjQgb"
      },
      "source": [
        "#una muestra aleatoria\n",
        "df = cali_housing.sample(5)\n",
        "df"
      ],
      "execution_count": null,
      "outputs": []
    },
    {
      "cell_type": "code",
      "metadata": {
        "id": "z5hZDIeATSuy"
      },
      "source": [
        "# ordenar por index\n",
        "df.sort_index()"
      ],
      "execution_count": null,
      "outputs": []
    },
    {
      "cell_type": "markdown",
      "metadata": {
        "id": "zjvZYHkIDzR3"
      },
      "source": [
        "Para un objeto Series:"
      ]
    },
    {
      "cell_type": "code",
      "metadata": {
        "id": "hml6pB_gD1xM"
      },
      "source": [
        "s = cali_housing[\"total_rooms\"].sample(5)\n",
        "s"
      ],
      "execution_count": null,
      "outputs": []
    },
    {
      "cell_type": "code",
      "metadata": {
        "id": "6dbg9193EBua"
      },
      "source": [
        "s.sort_index()"
      ],
      "execution_count": null,
      "outputs": []
    },
    {
      "cell_type": "markdown",
      "metadata": {
        "id": "WpFJKTtLSH6q"
      },
      "source": [
        "# Métodos matemáticos\n",
        "\n",
        "[Operaciones binarias](https://pandas.pydata.org/docs/reference/frame.html#binary-operator-functions):\n",
        "\n",
        "* [```add(other)```](https://pandas.pydata.org/pandas-docs/stable/reference/api/pandas.DataFrame.add.html), suma elemento por elemento un DataFrames/Series y other.\n",
        "* [```sub(other)```](https://pandas.pydata.org/pandas-docs/stable/reference/api/pandas.DataFrame.sub.html#pandas.DataFrame.sub), resta elemento por elemento un DataFrames/Series y other.\n",
        "* [```mul(other)```](https://pandas.pydata.org/pandas-docs/stable/reference/api/pandas.DataFrame.mul.html#pandas.DataFrame.mul), multiplicación elemento por elemento de un DataFrames/Series por other.\n",
        "* [```div(other)```](https://pandas.pydata.org/pandas-docs/stable/reference/api/pandas.DataFrame.div.html#pandas.DataFrame.div), divide elemento por elemento un DataFrames/Series entre other.\n",
        "* [```mod(other)```](https://pandas.pydata.org/pandas-docs/stable/reference/api/pandas.DataFrame.mod.html#pandas.DataFrame.mod), calcula el módulo de un DataFrame/Series usando other.\n",
        "* [```pow(other)```](https://pandas.pydata.org/pandas-docs/stable/reference/api/pandas.DataFrame.pow.html#pandas.DataFrame.pow), calcula el exponente elemento por elemento de un DataFrame/Series elevado a la potencia de other.\n",
        "* [```dot(other)```](https://pandas.pydata.org/pandas-docs/stable/reference/api/pandas.DataFrame.dot.html), producto punto o de matrices entre dos Series/DataFrames respectivamente.\n",
        "\n",
        "_Las operaciones binarias pueden utilizar broadcasting, entonces pueden recibir escalares, Dataframes o Series._\n",
        "\n",
        "\n",
        "[Operaciones estadísticas](https://pandas.pydata.org/docs/reference/frame.html#computations-descriptive-stats):\n",
        "* [```abs()```](https://pandas.pydata.org/pandas-docs/stable/reference/api/pandas.DataFrame.abs.html), valor absoluto de los elementos.\n",
        "* [```count(axis)```](https://pandas.pydata.org/pandas-docs/stable/reference/api/pandas.DataFrame.count.html), cuenta el número de elementos no-nulos en las filas o columnas. \n",
        "* [```max(axis)```](https://pandas.pydata.org/pandas-docs/stable/reference/api/pandas.DataFrame.max.html), retorna el valor máximo encontrado por filas o columnas.\n",
        "* [```min(axis)```](https://pandas.pydata.org/pandas-docs/stable/reference/api/pandas.DataFrame.min.html#pandas.DataFrame.min), retorna el valor mínimo encontrado por filas o columnas.\n",
        "* [```mean(axis)```](https://pandas.pydata.org/pandas-docs/stable/reference/api/pandas.DataFrame.mean.html), retorna la media de los elementos por filas o columnas.\n",
        "* [```median(axis)```](https://pandas.pydata.org/pandas-docs/stable/reference/api/pandas.DataFrame.median.html), retorna la mediana de los elementos de las filas o columnas.\n",
        "* [```sum(axis)```](https://pandas.pydata.org/pandas-docs/stable/reference/api/pandas.DataFrame.sum.html), retorna la suma de todos los elementos de las filas o columnas.\n",
        "* [```std(axis)```](https://pandas.pydata.org/pandas-docs/stable/reference/api/pandas.DataFrame.std.html), retorna la desviación estándar de las filas o columnas.\n",
        "* [```var(axis)```](https://pandas.pydata.org/pandas-docs/stable/reference/api/pandas.DataFrame.var.html),retorna la varianza de las filas o columnas."
      ]
    },
    {
      "cell_type": "markdown",
      "metadata": {
        "id": "GIymgx0GKjyI"
      },
      "source": [
        "## Operaciones binarias"
      ]
    },
    {
      "cell_type": "code",
      "metadata": {
        "id": "t8jB4PTpLlwL"
      },
      "source": [
        "#creamos un dataframe para ejemplificar las funciones\n",
        "df = pd.DataFrame({'angles': [0, 3, 4], 'degrees': [360, 180, 360]}, index=['circle', 'triangle', 'rectangle'])\n",
        "df"
      ],
      "execution_count": null,
      "outputs": []
    },
    {
      "cell_type": "markdown",
      "metadata": {
        "id": "kYiT5W6xKsVt"
      },
      "source": [
        "### add(), sub(), mul() y div()"
      ]
    },
    {
      "cell_type": "code",
      "metadata": {
        "id": "IEyrVIZ1hLEY"
      },
      "source": [
        "df.add(1)"
      ],
      "execution_count": null,
      "outputs": []
    },
    {
      "cell_type": "markdown",
      "metadata": {
        "id": "w0ALFEcSx5RJ"
      },
      "source": [
        "o"
      ]
    },
    {
      "cell_type": "code",
      "metadata": {
        "id": "cONCG3nlxfaB"
      },
      "source": [
        "df + 1"
      ],
      "execution_count": null,
      "outputs": []
    },
    {
      "cell_type": "code",
      "metadata": {
        "id": "VdD5jMxxL9UO"
      },
      "source": [
        "df.mul(2)"
      ],
      "execution_count": null,
      "outputs": []
    },
    {
      "cell_type": "markdown",
      "metadata": {
        "id": "XrvVPJtkx7a7"
      },
      "source": [
        "o"
      ]
    },
    {
      "cell_type": "code",
      "metadata": {
        "id": "J0T9xkxbx9Q2"
      },
      "source": [
        "df * 2"
      ],
      "execution_count": null,
      "outputs": []
    },
    {
      "cell_type": "code",
      "metadata": {
        "id": "uYU8Nj9HL-ys"
      },
      "source": [
        "df.div(2)"
      ],
      "execution_count": null,
      "outputs": []
    },
    {
      "cell_type": "markdown",
      "metadata": {
        "id": "8IC8hg-tx_x_"
      },
      "source": [
        "o"
      ]
    },
    {
      "cell_type": "code",
      "metadata": {
        "id": "SnIJAbm2yAuh"
      },
      "source": [
        "df / 2"
      ],
      "execution_count": null,
      "outputs": []
    },
    {
      "cell_type": "markdown",
      "metadata": {
        "id": "X0eCoCPzKwTT"
      },
      "source": [
        "### mod() y pow()"
      ]
    },
    {
      "cell_type": "code",
      "metadata": {
        "id": "N2LKPhushLmc"
      },
      "source": [
        "df.mod(2)"
      ],
      "execution_count": null,
      "outputs": []
    },
    {
      "cell_type": "markdown",
      "metadata": {
        "id": "gmHFy-Wiyii-"
      },
      "source": [
        "o"
      ]
    },
    {
      "cell_type": "code",
      "metadata": {
        "id": "YGa471AJyjqk"
      },
      "source": [
        "df % 2"
      ],
      "execution_count": null,
      "outputs": []
    },
    {
      "cell_type": "code",
      "metadata": {
        "id": "ZtqiK_x9MP9z"
      },
      "source": [
        "df.pow(3)"
      ],
      "execution_count": null,
      "outputs": []
    },
    {
      "cell_type": "markdown",
      "metadata": {
        "id": "1z_r3MsVyndb"
      },
      "source": [
        "o"
      ]
    },
    {
      "cell_type": "code",
      "metadata": {
        "id": "uCadw7BxynvV"
      },
      "source": [
        "df ** 3"
      ],
      "execution_count": null,
      "outputs": []
    },
    {
      "cell_type": "markdown",
      "metadata": {
        "id": "d9BNaw_GK01I"
      },
      "source": [
        "### dot()"
      ]
    },
    {
      "cell_type": "code",
      "metadata": {
        "id": "7CjDky-LMcQN"
      },
      "source": [
        "#un nuevo dataframe para ejemplificar dot\n",
        "df = pd.DataFrame([[0, 1, -2, -1], [1, 1, 1, 1]])\n",
        "df"
      ],
      "execution_count": null,
      "outputs": []
    },
    {
      "cell_type": "code",
      "metadata": {
        "id": "GdKKQyURK08h"
      },
      "source": [
        "#dot usando una serie\n",
        "s = pd.Series([1, 1, 2, 1])\n",
        "df.dot(s)"
      ],
      "execution_count": null,
      "outputs": []
    },
    {
      "cell_type": "code",
      "metadata": {
        "id": "jLvzQjZOMuJR"
      },
      "source": [
        "#dot de dos matrices\n",
        "other = pd.DataFrame([[0, 1], [1, 2], [-1, -1], [2, 0]])\n",
        "df.dot(other)"
      ],
      "execution_count": null,
      "outputs": []
    },
    {
      "cell_type": "markdown",
      "metadata": {
        "id": "gW9WU9a4yCsT"
      },
      "source": [
        "*Nota: Las operaciones binarias pueden aplicarse usando escalares, series u otros dataframes.*"
      ]
    },
    {
      "cell_type": "markdown",
      "metadata": {
        "id": "hN3IC4dlKnUI"
      },
      "source": [
        "## Operaciones estadísticas"
      ]
    },
    {
      "cell_type": "markdown",
      "metadata": {
        "id": "giITZgImLK05"
      },
      "source": [
        "### abs()"
      ]
    },
    {
      "cell_type": "code",
      "metadata": {
        "id": "qR_CH7C6jMFk"
      },
      "source": [
        "#un df con valores negativos\n",
        "df = pd.DataFrame({'a': [4, -5, -6, 7], 'b': [-10, 20, 30, -40], 'c': [100, 50, -30, -50]})\n",
        "df"
      ],
      "execution_count": null,
      "outputs": []
    },
    {
      "cell_type": "code",
      "metadata": {
        "id": "6Fvi1UeOmQZI"
      },
      "source": [
        "df.abs()"
      ],
      "execution_count": null,
      "outputs": []
    },
    {
      "cell_type": "markdown",
      "metadata": {
        "id": "1Qpx3o7tLO2L"
      },
      "source": [
        "### count()"
      ]
    },
    {
      "cell_type": "code",
      "metadata": {
        "id": "TRQ1-i_MLO6R"
      },
      "source": [
        "#un dataframe con valores no-nulos y nuelos\n",
        "df = pd.DataFrame({\"Person\":[\"John\", \"Myla\", \"Lewis\", \"John\", \"Myla\"],\n",
        "                    \"Age\": [24., np.nan, 21., 33, 26],\n",
        "                    \"Single\": [False, True, True, np.nan, np.nan]})\n",
        "df"
      ],
      "execution_count": null,
      "outputs": []
    },
    {
      "cell_type": "markdown",
      "metadata": {
        "id": "bhRjhAwsoc3i"
      },
      "source": [
        "Count para cada columna (por defecto ```axis=0```):"
      ]
    },
    {
      "cell_type": "code",
      "metadata": {
        "id": "b9UZfmFrmuxM"
      },
      "source": [
        "df.count()"
      ],
      "execution_count": null,
      "outputs": []
    },
    {
      "cell_type": "markdown",
      "metadata": {
        "id": "rm_XPyieodTa"
      },
      "source": [
        "Count para cada fila (```axis=1```)"
      ]
    },
    {
      "cell_type": "code",
      "metadata": {
        "id": "xIecQd5aodY3"
      },
      "source": [
        "df.count(axis=1)"
      ],
      "execution_count": null,
      "outputs": []
    },
    {
      "cell_type": "markdown",
      "metadata": {
        "id": "sYkKe0CeLQj9"
      },
      "source": [
        "### max() y min()"
      ]
    },
    {
      "cell_type": "code",
      "metadata": {
        "id": "i8ASz2GHm0oN"
      },
      "source": [
        "#creamos un dataframe para ejemplificar las funciones\n",
        "df = pd.DataFrame({'angles': [0, 3, 4], 'degrees': [360, 180, 360]}, index=['circle', 'triangle', 'rectangle'])\n",
        "df"
      ],
      "execution_count": null,
      "outputs": []
    },
    {
      "cell_type": "markdown",
      "metadata": {
        "id": "bQavGGrFnH1l"
      },
      "source": [
        "Para cada columna (por defecto ```axis=0```):"
      ]
    },
    {
      "cell_type": "code",
      "metadata": {
        "id": "voNH4Yf5csuy"
      },
      "source": [
        "df.max(axis=0)"
      ],
      "execution_count": null,
      "outputs": []
    },
    {
      "cell_type": "code",
      "metadata": {
        "id": "LtId7n9PnEyr"
      },
      "source": [
        "# axis = 0 por defecto\n",
        "df.min()"
      ],
      "execution_count": null,
      "outputs": []
    },
    {
      "cell_type": "markdown",
      "metadata": {
        "id": "e4JTvqUnnMr8"
      },
      "source": [
        "Para cada fila (```axis=1```):"
      ]
    },
    {
      "cell_type": "code",
      "metadata": {
        "id": "6D5arL57nO43"
      },
      "source": [
        "df.max(axis=1)"
      ],
      "execution_count": null,
      "outputs": []
    },
    {
      "cell_type": "code",
      "metadata": {
        "id": "ZGo4traHnPTu"
      },
      "source": [
        "df.min(axis=1)"
      ],
      "execution_count": null,
      "outputs": []
    },
    {
      "cell_type": "markdown",
      "metadata": {
        "id": "rN6bfSoILUzq"
      },
      "source": [
        "### mean() y median()"
      ]
    },
    {
      "cell_type": "markdown",
      "metadata": {
        "id": "2VYzRogro2FS"
      },
      "source": [
        "Para cada columna (por defecto ```axis=0```)"
      ]
    },
    {
      "cell_type": "code",
      "metadata": {
        "id": "mzy5zOQ5o22-"
      },
      "source": [
        "df.mean()"
      ],
      "execution_count": null,
      "outputs": []
    },
    {
      "cell_type": "code",
      "metadata": {
        "id": "aVCiWZimpA01"
      },
      "source": [
        "df.median()"
      ],
      "execution_count": null,
      "outputs": []
    },
    {
      "cell_type": "markdown",
      "metadata": {
        "id": "zaBNhyVWo2-v"
      },
      "source": [
        "Para cada fila (```axis=1```):"
      ]
    },
    {
      "cell_type": "code",
      "metadata": {
        "id": "KfQwjwIYLakL"
      },
      "source": [
        "df.mean(axis=1)"
      ],
      "execution_count": null,
      "outputs": []
    },
    {
      "cell_type": "code",
      "metadata": {
        "id": "2Hfdph4hpQ_c"
      },
      "source": [
        "df.median(axis=1)"
      ],
      "execution_count": null,
      "outputs": []
    },
    {
      "cell_type": "markdown",
      "metadata": {
        "id": "HPTgv9gBLaqN"
      },
      "source": [
        "### sum()"
      ]
    },
    {
      "cell_type": "markdown",
      "metadata": {
        "id": "44usShNUpbb3"
      },
      "source": [
        "Para cada columna columna (por defecto ```axis=0```):"
      ]
    },
    {
      "cell_type": "code",
      "metadata": {
        "id": "cGGOiXdwLawP"
      },
      "source": [
        "df.sum()"
      ],
      "execution_count": null,
      "outputs": []
    },
    {
      "cell_type": "markdown",
      "metadata": {
        "id": "8Wkp93t_pb75"
      },
      "source": [
        "Para cada fila (```axis=1```):"
      ]
    },
    {
      "cell_type": "code",
      "metadata": {
        "id": "g_fIp2cXpcA-"
      },
      "source": [
        "df.sum(axis=1)"
      ],
      "execution_count": null,
      "outputs": []
    },
    {
      "cell_type": "markdown",
      "metadata": {
        "id": "Ep_iABKeLcN2"
      },
      "source": [
        "### std() y var()"
      ]
    },
    {
      "cell_type": "markdown",
      "metadata": {
        "id": "cqDKnpRlpzD4"
      },
      "source": [
        "Para cada columna (por defecto ```axis=0```):"
      ]
    },
    {
      "cell_type": "code",
      "metadata": {
        "id": "wvQx0krDLcUZ"
      },
      "source": [
        "df.std()"
      ],
      "execution_count": null,
      "outputs": []
    },
    {
      "cell_type": "code",
      "metadata": {
        "id": "ZMP8viIvp-54"
      },
      "source": [
        "df.var()"
      ],
      "execution_count": null,
      "outputs": []
    },
    {
      "cell_type": "markdown",
      "metadata": {
        "id": "wk7PNbHnpzoY"
      },
      "source": [
        "Para cada fila (```axis=1```):"
      ]
    },
    {
      "cell_type": "code",
      "metadata": {
        "id": "ePFAQ62DpztQ"
      },
      "source": [
        "df.std(axis=1)"
      ],
      "execution_count": null,
      "outputs": []
    },
    {
      "cell_type": "code",
      "metadata": {
        "id": "0dzqX_njqDGZ"
      },
      "source": [
        "df.var(axis=1)"
      ],
      "execution_count": null,
      "outputs": []
    },
    {
      "cell_type": "markdown",
      "metadata": {
        "id": "Z4ZjI7Xzcr91"
      },
      "source": [
        "# Aplicando funciones propias"
      ]
    },
    {
      "cell_type": "markdown",
      "metadata": {
        "id": "rLqL8hxHcvhp"
      },
      "source": [
        "## apply()\n",
        "\n",
        "[```df.apply()```](https://pandas.pydata.org/pandas-docs/stable/reference/api/pandas.DataFrame.apply.html) recibe una función y la aplica a todas las filas o columnas según el axis indicado."
      ]
    },
    {
      "cell_type": "markdown",
      "metadata": {
        "id": "YOn9rei70eoL"
      },
      "source": [
        "```axis=0``` aplica la función por columnas:"
      ]
    },
    {
      "cell_type": "code",
      "metadata": {
        "id": "ik_aP1hjT-PU"
      },
      "source": [
        "f = lambda x: (x - x.mean())/x.var()\n",
        "\n",
        "#aplica la funcion a todas las columnas\n",
        "cali_housing.apply(f, axis=0)"
      ],
      "execution_count": null,
      "outputs": []
    },
    {
      "cell_type": "markdown",
      "metadata": {
        "id": "r0nPxa8k0nJ7"
      },
      "source": [
        "```axis = 1``` aplica la función por filas:"
      ]
    },
    {
      "cell_type": "code",
      "metadata": {
        "id": "YicJc0p2hGTw"
      },
      "source": [
        "#aplica la funcion a todas las filas\n",
        "cali_housing.apply(f, axis=1)"
      ],
      "execution_count": null,
      "outputs": []
    },
    {
      "cell_type": "markdown",
      "metadata": {
        "id": "874C05ZNcwDB"
      },
      "source": [
        "## applymap()\n",
        "\n",
        "[```df.applymap()```](https://pandas.pydata.org/pandas-docs/stable/reference/api/pandas.DataFrame.applymap.html#pandas.DataFrame.applymap) aplica una función elemento por elemento al objeto de Pandas."
      ]
    },
    {
      "cell_type": "code",
      "metadata": {
        "id": "GOaAV64ncwKT"
      },
      "source": [
        "f = lambda x: round(x)\n",
        "\n",
        "#aplica la funcion a todos los elementos\n",
        "cali_housing.applymap(f)"
      ],
      "execution_count": null,
      "outputs": []
    },
    {
      "cell_type": "markdown",
      "metadata": {
        "id": "rH43oj20UmsY"
      },
      "source": [
        "# Operaciones en columnas\n",
        "\n",
        "Puedes realizar operaciones directamente en las columnas de un DataFrame para obtener resultados como una Serie o para crear nuevas columnas.  Por ejemplo:\n",
        "\n",
        "* Relizar operaciones binarias entre columnas. (suma, resta, multiplicación, etc.).\n",
        "* Aplicar métodos estadísticos en las columnas. (sum(), mean(), var(), etc.).\n",
        "* Una mezcla de operaciones binarias y métodos."
      ]
    },
    {
      "cell_type": "code",
      "metadata": {
        "id": "O3KKVANJUrDx"
      },
      "source": [
        "#creando un dataframe\n",
        "df = pd.DataFrame({\"A\":[1, 2, 3], \"B\":[2, 2, 2]})\n",
        "df"
      ],
      "execution_count": null,
      "outputs": []
    },
    {
      "cell_type": "code",
      "metadata": {
        "id": "s5NCuK2LbE8y"
      },
      "source": [
        "#operaciones entre columna regresan una serie\n",
        "df[\"A\"] * df[\"B\"]"
      ],
      "execution_count": null,
      "outputs": []
    },
    {
      "cell_type": "code",
      "metadata": {
        "id": "LcpfXx-mb2-f"
      },
      "source": [
        "#generar una nueva columna desde una operacion\n",
        "df[\"A^B\"] = df[\"A\"].pow(df[\"B\"])\n",
        "df "
      ],
      "execution_count": null,
      "outputs": []
    },
    {
      "cell_type": "code",
      "metadata": {
        "id": "NR78G-lZcPEb"
      },
      "source": [
        "#aplicar un metodo estadistico a una columna genera un valor\n",
        "df[\"A\"].sum()"
      ],
      "execution_count": null,
      "outputs": []
    },
    {
      "cell_type": "code",
      "metadata": {
        "id": "I7L1MVTIcl99"
      },
      "source": [
        "#generando una nueva columna con la suma de las filas\n",
        "df[\"suma\"] = df.sum(axis=1)\n",
        "df"
      ],
      "execution_count": null,
      "outputs": []
    },
    {
      "cell_type": "markdown",
      "metadata": {
        "id": "kQX4ek7hVAuu"
      },
      "source": [
        "# Funciones por grupos y agregación"
      ]
    },
    {
      "cell_type": "markdown",
      "metadata": {
        "id": "3kP0btfyqbvP"
      },
      "source": [
        "## aggregate()/agg()\n",
        "\n",
        "La agregación de datos es una transformación que produce un valor escalar a partir de un arreglo, por ejemplo, las funciones/métodos \"sum\" y \"mean\". Los métodos [```aggregate()```](https://pandas.pydata.org/pandas-docs/stable/reference/api/pandas.DataFrame.aggregate.html) y su alias [```agg()```](https://pandas.pydata.org/pandas-docs/stable/reference/api/pandas.DataFrame.agg.html) permiten aplicar una o más funciones de agregación a los objetos de Pandas. \n",
        "\n",
        "Los parámetros principales son:\n",
        "\n",
        "\n",
        "\n",
        "```\n",
        "func : funcion, str, list o dict\n",
        "  La funcion o funciones utilizada spara la agregacion de los datos.\n",
        "\n",
        "  Las combinaciones aceptadas:\n",
        "\n",
        "  funcion\n",
        "  cadena con el nombre de la funcion\n",
        "  lista de funciones y/o nombre de las funciones (ej, [np.sum, 'mean'])\n",
        "  diccionario de etiquetas del axis que mapean a:\n",
        "  - las funciones.\n",
        "  - nombre de funciones.\n",
        "  - lista de funciones.\n",
        "\n",
        "axis : {0 or ‘index’, 1 or ‘columns’}, por defecto 0\n",
        "  Si axis=0 o ‘index’: aplica la funcion a cada columna.\n",
        "  Si axis=1 o ‘columns’: aplica la funcion a cada fila.\n",
        "```\n",
        "\n"
      ]
    },
    {
      "cell_type": "code",
      "metadata": {
        "id": "n7WDkeCDh9Ne"
      },
      "source": [
        "df = pd.DataFrame([[1, 2, 3],\n",
        "                   [4, 5, 6],\n",
        "                   [7, 8, 9]],\n",
        "                  columns=['A', 'B', 'C'])\n",
        "df"
      ],
      "execution_count": null,
      "outputs": []
    },
    {
      "cell_type": "markdown",
      "metadata": {
        "id": "UAmPy6H_kEV1"
      },
      "source": [
        "Por columna (por defecto axis=0):"
      ]
    },
    {
      "cell_type": "code",
      "metadata": {
        "id": "F4qbT9ESeVG-"
      },
      "source": [
        "#funcion de agregacion para calcular varios estadisticos a las columnas\n",
        "df.agg([\"min\", \"max\"])"
      ],
      "execution_count": null,
      "outputs": []
    },
    {
      "cell_type": "markdown",
      "metadata": {
        "id": "0h2JljwtkIYQ"
      },
      "source": [
        "Por filas (axis=1):"
      ]
    },
    {
      "cell_type": "code",
      "metadata": {
        "id": "uTuA399VkIcC"
      },
      "source": [
        "#funcion de agregacion para calcular varios estadisticos a las filas\n",
        "df.agg([\"min\", \"max\"], axis=1)"
      ],
      "execution_count": null,
      "outputs": []
    },
    {
      "cell_type": "markdown",
      "metadata": {
        "id": "3yyCfud-kTdn"
      },
      "source": [
        "Usando un diccionario como parámetro:"
      ]
    },
    {
      "cell_type": "code",
      "metadata": {
        "id": "8qrOoj_7kUQs"
      },
      "source": [
        "df.agg({\"A\": np.min, \"B\": np.max, \"C\": [np.mean, np.std]})"
      ],
      "execution_count": null,
      "outputs": []
    },
    {
      "cell_type": "markdown",
      "metadata": {
        "id": "C7R7riKcVDt6"
      },
      "source": [
        "## groupby()\n",
        "\n",
        "El método [```df.groupby()```](https://pandas.pydata.org/pandas-docs/stable/reference/api/pandas.DataFrame.groupby.html) permite generar grupos de datos usando una o más columnas para aplicar funciones de transformación o de agregación. \n",
        "\n",
        "Groupby es útil para contestar preguntas tipo: ¿cuál es la media de altura en hombres y mujeres? o ¿cúal es estado con menor población para cada país?"
      ]
    },
    {
      "cell_type": "code",
      "metadata": {
        "id": "Ba0EwO9GVCsO"
      },
      "source": [
        "df = pd.DataFrame({\"Sexo\": [\"M\", \"F\", \"F\", \"M\"], \"Altura\": [1.68, 1.55, 1.75, 1.82], \"Peso\": [70, 50, 68, 72]})\n",
        "df"
      ],
      "execution_count": null,
      "outputs": []
    },
    {
      "cell_type": "code",
      "metadata": {
        "id": "4SjCIZ6Cm2RN"
      },
      "source": [
        "#generar un dataframe argupado por una columna\n",
        "df.groupby(\"Sexo\")"
      ],
      "execution_count": null,
      "outputs": []
    },
    {
      "cell_type": "markdown",
      "metadata": {
        "id": "Qkxna7JlnIbD"
      },
      "source": [
        "groupby() por si solo no resulta en la salida esperada.\n",
        "\n",
        "Hay que aplicar una función:"
      ]
    },
    {
      "cell_type": "code",
      "metadata": {
        "id": "uw0pANH5nans"
      },
      "source": [
        "#la media de las columnas\n",
        "df.groupby(\"Sexo\").mean()"
      ],
      "execution_count": null,
      "outputs": []
    },
    {
      "cell_type": "code",
      "metadata": {
        "id": "jlBYy_eWnrm9"
      },
      "source": [
        "#seleccionando una sola columna para la agregacion\n",
        "df.groupby(\"Sexo\")[\"Altura\"].mean()"
      ],
      "execution_count": null,
      "outputs": []
    },
    {
      "cell_type": "markdown",
      "metadata": {
        "id": "j7H3MQN3hrSB"
      },
      "source": [
        "**groupby() y agg()**\n",
        "\n",
        "Puedes mezclar groupby() con agg() para aplicar más de una función. "
      ]
    },
    {
      "cell_type": "code",
      "metadata": {
        "id": "9l3IAtYBhrv8"
      },
      "source": [
        "df.groupby(\"Sexo\").agg([\"mean\", \"std\"])"
      ],
      "execution_count": null,
      "outputs": []
    },
    {
      "cell_type": "markdown",
      "metadata": {
        "id": "WNskBq1do9g5"
      },
      "source": [
        "**Agrupando con más de una columna**"
      ]
    },
    {
      "cell_type": "code",
      "metadata": {
        "id": "aqA4S2dPo97J"
      },
      "source": [
        "#agregar una nueva columna al df\n",
        "df[\"Estado\"] = [\"Morelos\", \"DF\", \"DF\", \"DF\"]\n",
        "df"
      ],
      "execution_count": null,
      "outputs": []
    },
    {
      "cell_type": "code",
      "metadata": {
        "id": "bA7HP3yLpY9N"
      },
      "source": [
        "#usando mas de una clave para la agrupacion\n",
        "df.groupby([\"Sexo\", \"Estado\"]).agg(\"mean\")"
      ],
      "execution_count": null,
      "outputs": []
    },
    {
      "cell_type": "markdown",
      "metadata": {
        "id": "tn76gw-kVIX5"
      },
      "source": [
        "# Combinar Dataframes"
      ]
    },
    {
      "cell_type": "markdown",
      "metadata": {
        "id": "QTjnCTA0oKOZ"
      },
      "source": [
        "## append()\n",
        "\n",
        "[```df.append()```](https://pandas.pydata.org/pandas-docs/stable/reference/api/pandas.DataFrame.append.html) concatena las filas de un DataFrame a otro usando las columnas que coinciden. Columnas que no coinciden son agregadas al DataFrame resultante."
      ]
    },
    {
      "cell_type": "code",
      "metadata": {
        "id": "H3iFTLk7VKbK"
      },
      "source": [
        "df = pd.DataFrame([[1, 2], [3, 4]], columns=[\"A\", \"B\"])\n",
        "df"
      ],
      "execution_count": null,
      "outputs": []
    },
    {
      "cell_type": "code",
      "metadata": {
        "id": "l6w99m9aqLaO"
      },
      "source": [
        "df2 = df2 = pd.DataFrame([[5, 6], [7, 8]], columns=[\"A\", \"B\"])\n",
        "df2"
      ],
      "execution_count": null,
      "outputs": []
    },
    {
      "cell_type": "code",
      "metadata": {
        "id": "37SLtmNhrfPi"
      },
      "source": [
        "df.append(df2)"
      ],
      "execution_count": null,
      "outputs": []
    },
    {
      "cell_type": "markdown",
      "metadata": {
        "id": "9exwc3KToKoF"
      },
      "source": [
        "## merge() y join()\n",
        "\n",
        "[```df.merge()```](https://pandas.pydata.org/pandas-docs/stable/reference/api/pandas.DataFrame.merge.html) y [```df.join()```](https://pandas.pydata.org/pandas-docs/stable/reference/api/pandas.DataFrame.join.html) permiten joins de dataframes al estilo SQL.\n",
        "\n",
        "Si no conoces SQL visita este sitio para darte una idea de los tipos de joins disponibles: https://www.w3schools.com/sql/sql_join.asp\n",
        "\n",
        "![wikipedia](https://upload.wikimedia.org/wikipedia/commons/c/c9/Joins_del_SQL.svg)"
      ]
    },
    {
      "cell_type": "markdown",
      "metadata": {
        "id": "p7okKBKWtsea"
      },
      "source": [
        "**merge()**\n",
        "\n",
        "Parámetros principales:\n",
        "\n",
        "\n",
        "```\n",
        "right : DataFrame o  Series\n",
        "  Objeto con el que realizar merge()\n",
        "\n",
        "how:{‘left’, ‘right’, ‘outer’, ‘inner’}, Por defecto ‘inner’\n",
        "  Type of merge to be performed.\n",
        "\n",
        "  left: similar a un left outer join de SQL.\n",
        "  right: similar a un  right outer join SQL.\n",
        "  outer:  similar a un full outer join SQL.\n",
        "  inner: similar a un inner join de SQL.\n",
        "\n",
        "on : etiqueta o lista de etiquetas\n",
        "  Columnas o indices para unir. Deben estar en ambos DataFrames.\n",
        "\n",
        "left_on : etiqueta, lista de etiquetas\n",
        "  Columnas o indices para unir del DataFrame de la izquierda.\n",
        "\n",
        "right_on : etiqueta, lista de etiquetas\n",
        "  Columnas o indices para unir del DataFrame de la derecha.\n",
        "```\n"
      ]
    },
    {
      "cell_type": "code",
      "metadata": {
        "id": "2Du2Y5qHqOOK"
      },
      "source": [
        "# df1 tiene un elemento unico u1 que df2 no tiene\n",
        "df1 = pd.DataFrame({'key': ['a', 'b', 'u1', 'a'], 'value': [1, 2, 3, 5]})\n",
        "df1"
      ],
      "execution_count": null,
      "outputs": []
    },
    {
      "cell_type": "code",
      "metadata": {
        "id": "Cj-XgVtqtYA7"
      },
      "source": [
        "# df2 tiene un elemento unico u2 que no df1 no tiene\n",
        "df2 = pd.DataFrame({'key': ['a', 'b', 'u2', 'a'], 'value': [5, 6, 7, 8]})\n",
        "df2"
      ],
      "execution_count": null,
      "outputs": []
    },
    {
      "cell_type": "markdown",
      "metadata": {
        "id": "GCpWIW2A1iEV"
      },
      "source": [
        "Inner\n",
        "\n",
        "Mantiene las llaves ```key``` que coinciden en ambos dataframes.\n",
        "\n",
        "\n",
        "| df1   || coincide en ```key``` de df2|\n",
        "|---||----|\n",
        "| (a, 1) || (a, 5) y (a, 8) |\n",
        "| (a, 5) || (a, 5) y (a, 8) |\n",
        "| (b, 2) || (b, 6) |"
      ]
    },
    {
      "cell_type": "code",
      "metadata": {
        "id": "nC1dlsPztc-I"
      },
      "source": [
        "df1.merge(df2, how=\"inner\", on=\"key\")"
      ],
      "execution_count": null,
      "outputs": []
    },
    {
      "cell_type": "markdown",
      "metadata": {
        "id": "5dJcT9MD1jVL"
      },
      "source": [
        "Outer\n",
        "\n",
        "Mantiene las filas de ambos Dataframes, sin importar si existe o no existe un mapeo entre las llaves ```key```.\n",
        "\n",
        "| df1   || df2|\n",
        "|---||----|\n",
        "| (a, 1) || (a, 5) y (a, 8) |\n",
        "| (a, 5) || (a, 5) y (a, 8) |\n",
        "| (b, 2) || (b, 6) |\n",
        "| (u1, 3)|| NaN |\n",
        "| NaN || (u2, 7)|"
      ]
    },
    {
      "cell_type": "code",
      "metadata": {
        "id": "a4KVmbhp1lNu"
      },
      "source": [
        "df1.merge(df2, how=\"outer\", on=\"key\")"
      ],
      "execution_count": null,
      "outputs": []
    },
    {
      "cell_type": "markdown",
      "metadata": {
        "id": "UfMmCgEn1lfT"
      },
      "source": [
        "Left\n",
        "\n",
        "Mantiene todas las filas del Dataframe de la izquierda y en las que existe un match en ```key``` en el Dataframe de la derecha.\n",
        "\n",
        "| df1 (left)   || df2 (right)|\n",
        "|---||----|\n",
        "| (a, 1) || (a, 5) y (a, 8) |\n",
        "| (a, 5) || (a, 5) y (a, 8) |\n",
        "| (b, 2) || (b, 6) |\n",
        "| (u1, 3)|| NaN |"
      ]
    },
    {
      "cell_type": "code",
      "metadata": {
        "id": "8yl-C27B1lzo"
      },
      "source": [
        "df1.merge(df2, how=\"left\", on=\"key\")"
      ],
      "execution_count": null,
      "outputs": []
    },
    {
      "cell_type": "markdown",
      "metadata": {
        "id": "pWfriTKA1mJG"
      },
      "source": [
        "Right\n",
        "\n",
        "Mantiene todas las filas del Dataframe de la derecha y en las que existe un match en ```key``` en el Dataframe de la izquierda.\n",
        "\n",
        "| df1 (left)   || df2 (right)|\n",
        "|---||----|\n",
        "| (a, 1) || (a, 5) y (a, 8) |\n",
        "| (a, 5) || (a, 5) y (a, 8) |\n",
        "| (b, 2) || (b, 6) |\n",
        "| NaN || (u2, 7) |"
      ]
    },
    {
      "cell_type": "code",
      "metadata": {
        "id": "I1bNQtDH1mgL"
      },
      "source": [
        "df1.merge(df2, how=\"right\", on=\"key\")"
      ],
      "execution_count": null,
      "outputs": []
    },
    {
      "cell_type": "markdown",
      "metadata": {
        "id": "RcwPQghivj8S"
      },
      "source": [
        "**join()**\n",
        "\n",
        "Permite unir las columnas de uno o más objetos usando su índice o usando una columna como clave.\n",
        "\n",
        "\n",
        "Parámetros:\n",
        "```\n",
        "other : DataFrame, Series, o lista de DataFrames\n",
        "\n",
        "on : str o lista de str, opcional (por defecto usa los indices)\n",
        "\n",
        "how:{‘left’, ‘right’, ‘outer’, ‘inner’}, Por defecto ‘inner’\n",
        "  Type of merge to be performed.\n",
        "\n",
        "  left: usar el indice del DataFrame que llama al metodo.\n",
        "  right: usar el indice de other.\n",
        "  outer:  union de los indices.\n",
        "  inner: interseccion de los indices.\n",
        "\n",
        "lsuffix : str, por defecto ‘’\n",
        "  sufijo a utilizar del dataframe izq para la columnas sobrelapadas.\n",
        "\n",
        "rsuffix : str, default ‘’\n",
        "  sufijo a utilizar del dataframe der para la columnas sobrelapadas.\n",
        "```\n",
        "\n"
      ]
    },
    {
      "cell_type": "code",
      "metadata": {
        "id": "OPJ0nnz0w_Sk"
      },
      "source": [
        "df1 = pd.DataFrame({'key': ['foo', 'bar', 'baz', 'foo'], 'value': [1, 2, 3, 5]}).set_index(\"key\")\n",
        "df1"
      ],
      "execution_count": null,
      "outputs": []
    },
    {
      "cell_type": "code",
      "metadata": {
        "id": "s1NKoBucw_b2"
      },
      "source": [
        "df2 = pd.DataFrame({'key': ['foo', 'bar', 'baz', 'foo'], 'value': [5, 6, 7, 8]}).set_index(\"key\")\n",
        "df2"
      ],
      "execution_count": null,
      "outputs": []
    },
    {
      "cell_type": "code",
      "metadata": {
        "id": "XxGont_ExMFH"
      },
      "source": [
        "df1.join(df2, lsuffix=\"_l\", rsuffix=\"_r\")"
      ],
      "execution_count": null,
      "outputs": []
    },
    {
      "cell_type": "markdown",
      "metadata": {
        "id": "_L-No5v8Vm2a"
      },
      "source": [
        "# Cadenas\n",
        "\n",
        "Muchas de los métodos/funciones de Python para variables string, tienen un [método equivalente](https://pandas.pydata.org/pandas-docs/stable/user_guide/text.html#text-data-types) en los objetos Series y DataFrames de Pandas.\n",
        "\n",
        "Métodos principales para cadenas:\n",
        "\n",
        "* str.cat(other, sep), concatenta sep y other a cada str en el objeto.\n",
        "* str.split(str), divide la cadena usando el separador especificado.\n",
        "* str.replace(patt, repl), reemplaza en la cadena patt por repl.\n",
        "* str.lower() y str.upper(), para convertir cadenas a minúsculas o mayúsculas.\n",
        "* str.len(), calcula la longitud de la cadena.\n",
        "* str.count(str), cuenta el número de apariciones de str en la cadena.\n",
        "* str.strip(str), elimina str al inicio y final de la cadena.\n",
        "\n",
        "Visita la documentación para la lista completa de [métodos para cadenas de texto de Pandas](https://pandas.pydata.org/pandas-docs/stable/user_guide/text.html#method-summary).\n"
      ]
    },
    {
      "cell_type": "code",
      "metadata": {
        "id": "x6OD5UjjVRgL"
      },
      "source": [
        "s1 = pd.Series([\"A\", \"B\", \"C\"])\n",
        "s1"
      ],
      "execution_count": null,
      "outputs": []
    },
    {
      "cell_type": "code",
      "metadata": {
        "id": "MxstMIglhypx"
      },
      "source": [
        "s2 = pd.Series([\"1\", \"2\", \"3\"])\n",
        "s2"
      ],
      "execution_count": null,
      "outputs": []
    },
    {
      "cell_type": "code",
      "metadata": {
        "id": "x9F2lAoyg765"
      },
      "source": [
        "#concatenando s1 y s2 generando s3\n",
        "s3 = s1.str.cat(s2, sep=\"-\")\n",
        "s3"
      ],
      "execution_count": null,
      "outputs": []
    },
    {
      "cell_type": "code",
      "metadata": {
        "id": "BHPmiTLFiG4a"
      },
      "source": [
        "#str split\n",
        "s3.str.split(\"-\")"
      ],
      "execution_count": null,
      "outputs": []
    },
    {
      "cell_type": "code",
      "metadata": {
        "id": "p5UZmIieiOYh"
      },
      "source": [
        "#str.replace\n",
        "s3.str.replace(pat=\"-\", repl=\"_\")"
      ],
      "execution_count": null,
      "outputs": []
    },
    {
      "cell_type": "code",
      "metadata": {
        "id": "EA3DyWgOiAen"
      },
      "source": [
        "#un nuevo df\n",
        "s = pd.Series([\"gato\", \"perro\", \"elefante\"])"
      ],
      "execution_count": null,
      "outputs": []
    },
    {
      "cell_type": "code",
      "metadata": {
        "id": "DwtQJJwriluM"
      },
      "source": [
        "#upper\n",
        "s.str.upper()"
      ],
      "execution_count": null,
      "outputs": []
    },
    {
      "cell_type": "code",
      "metadata": {
        "id": "ISoIjll3ir8W"
      },
      "source": [
        "#len\n",
        "s.str.len()"
      ],
      "execution_count": null,
      "outputs": []
    },
    {
      "cell_type": "code",
      "metadata": {
        "id": "1axpUP6vivRY"
      },
      "source": [
        "#count\n",
        "s.str.count(\"o\")"
      ],
      "execution_count": null,
      "outputs": []
    },
    {
      "cell_type": "code",
      "metadata": {
        "id": "4AfZk9Pyi42j"
      },
      "source": [
        "#un nuevo df\n",
        "s4 = pd.Series([\"_A_\", \"_B_\", \"_C_\", \"_D_\"])\n",
        "s4"
      ],
      "execution_count": null,
      "outputs": []
    },
    {
      "cell_type": "code",
      "metadata": {
        "id": "xGUWuWAkjJGM"
      },
      "source": [
        "s4.str.strip(\"_\")"
      ],
      "execution_count": null,
      "outputs": []
    },
    {
      "cell_type": "markdown",
      "metadata": {
        "id": "k3f__tkwckYx"
      },
      "source": [
        "# Series de tiempo\n",
        "\n",
        "Pandas utiliza el tipo de dato \"Timestamp\" para el manejo de fechas y tiempo."
      ]
    },
    {
      "cell_type": "markdown",
      "metadata": {
        "id": "f8dQbtFPg0RI"
      },
      "source": [
        "## String a Timestamp"
      ]
    },
    {
      "cell_type": "code",
      "metadata": {
        "id": "00MB65mOckiQ"
      },
      "source": [
        "ts_index = pd.to_datetime([\"10/09/2006\", \"11/09/2006\", \"12/09/2006\"])\n",
        "ts_index"
      ],
      "execution_count": null,
      "outputs": []
    },
    {
      "cell_type": "markdown",
      "metadata": {
        "id": "OAwU2ETlg7Aq"
      },
      "source": [
        "Creando una serie de tiempo desde objetos:"
      ]
    },
    {
      "cell_type": "code",
      "metadata": {
        "id": "oXrkDmylg7KB"
      },
      "source": [
        "ts = pd.Series([\"5\", \"10\", \"15\"], index=ts_index)\n",
        "ts"
      ],
      "execution_count": null,
      "outputs": []
    },
    {
      "cell_type": "markdown",
      "metadata": {
        "id": "tc8pIQAMmods"
      },
      "source": [
        "Creando una serie de tiempo usando aleatoriamente usando Numpy y date_range de Pandas:"
      ]
    },
    {
      "cell_type": "code",
      "metadata": {
        "id": "I-g0NLy4moi6"
      },
      "source": [
        "ts = pd.Series(np.random.normal(0, 1, 100), index=pd.date_range(start=\"2006-01-01\", periods=100, freq=\"D\"))\n",
        "ts.head(10)"
      ],
      "execution_count": null,
      "outputs": []
    },
    {
      "cell_type": "markdown",
      "metadata": {
        "id": "oRuwhTMRmdNM"
      },
      "source": [
        "## Indexing\n",
        "\n",
        "Puedes utilizar fechas para indexar una serie de tiempo:"
      ]
    },
    {
      "cell_type": "code",
      "metadata": {
        "id": "wGH6izcRl4q_"
      },
      "source": [
        "#usando el anio y mes como indice\n",
        "ts[\"2006-02\"]"
      ],
      "execution_count": null,
      "outputs": []
    },
    {
      "cell_type": "code",
      "metadata": {
        "id": "3Ap7AU9bunh_"
      },
      "source": [
        "#una rebanada entre fechas\n",
        "ts[\"2006-02-20\": \"2006-03-10\"]"
      ],
      "execution_count": null,
      "outputs": []
    },
    {
      "cell_type": "markdown",
      "metadata": {
        "id": "OhcR1uS6n2py"
      },
      "source": [
        "## Resampling / agregación\n",
        "\n",
        "Permite obtener desde una serie de tiempo una nueva serie de tiempo a una frecuencia de tiempo menor al agregar los datos."
      ]
    },
    {
      "cell_type": "code",
      "metadata": {
        "id": "jwU6jpz0n41e"
      },
      "source": [
        "#De frecuencia por dias a semanas\n",
        "ts.resample(\"W\").mean()"
      ],
      "execution_count": null,
      "outputs": []
    },
    {
      "cell_type": "markdown",
      "metadata": {
        "id": "-xUm9dhkn5RX"
      },
      "source": [
        "## Ventanas\n",
        "\n",
        "Puedes aplicar [ventanas deslizantes a series de tiempo](https://pandas.pydata.org/pandas-docs/stable/reference/window.html#window) para calcular distintos estadísticos."
      ]
    },
    {
      "cell_type": "code",
      "metadata": {
        "id": "DCVmpAFTn5e6"
      },
      "source": [
        "ts.rolling(window=7).mean().head(14)"
      ],
      "execution_count": null,
      "outputs": []
    }
  ]
}