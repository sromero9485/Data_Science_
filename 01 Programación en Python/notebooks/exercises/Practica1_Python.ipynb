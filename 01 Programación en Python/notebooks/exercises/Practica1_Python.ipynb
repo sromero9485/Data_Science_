{
 "cells": [
  {
   "cell_type": "markdown",
   "metadata": {
    "colab_type": "text",
    "id": "view-in-github"
   },
   "source": [
    "<a href=\"https://colab.research.google.com/github/jhermosillo/DIPLOMADO_CDP/blob/main/01%20Programaci%C3%B3n%20en%20Python/notebooks/exercises/Practica1_Python.ipynb\" target=\"_parent\"><img src=\"https://colab.research.google.com/assets/colab-badge.svg\" alt=\"Open In Colab\"/></a>"
   ]
  },
  {
   "cell_type": "markdown",
   "metadata": {
    "id": "4zMzLuXxBDdY"
   },
   "source": [
    "# Ejercicios bases de Python"
   ]
  },
  {
   "cell_type": "markdown",
   "metadata": {
    "id": "HAY8IBC4dM62"
   },
   "source": [
    "## Estructuras, asignación y funciones"
   ]
  },
  {
   "cell_type": "markdown",
   "metadata": {
    "id": "5OKzkyU6_1kB"
   },
   "source": [
    "### 1. Creando una agenda \n",
    "\n",
    "Utiliza los conceptos básicos de python para crear una agenda telefónica. Deberás completar las funciones crear_agenda, agregar_contacto, eliminimar_contacto y buscar_contacto que se encuentran en las siguientes celdas.\n",
    "\n",
    "* ```crear_agenda()```, esta función devuelve una nueva agenda vacía, elige el tipo de dato que creas adecuado para este proposito.\n",
    "* ```agregar_contacto(agenda, nombre, numero)```, esta función debe permitir agregar un nuevo contacto a la agenda, además si un contacto ya existe con el nombre recibido entonces debes almacenar su nuevo numero sin eliminar el anterior.\n",
    "* ```buscar_contacto(agenda, nombre)```, esta función debe de regresar el o los números registados de un contacto, si el contacto no existe entonces imprimer el mensaje \"Contacto no encontrado en la agenda\".\n",
    "* ```eliminar_contacto(agenda, nombre)```, esta función permite eliminar a un contacto de la agenda, si el contacto no existe entonces imprimer el mensaje \"Contacto no encontrado en la agenda\"."
   ]
  },
  {
   "cell_type": "code",
   "execution_count": 28,
   "metadata": {
    "id": "EJAb9gnbzhA4"
   },
   "outputs": [],
   "source": [
    "def crear_agenda():\n",
    "    agenda = {}\n",
    "    return agenda"
   ]
  },
  {
   "cell_type": "code",
   "execution_count": 29,
   "metadata": {},
   "outputs": [
    {
     "name": "stdout",
     "output_type": "stream",
     "text": [
      "{}\n"
     ]
    }
   ],
   "source": [
    "agenda = crear_agenda()\n",
    "print(agenda)"
   ]
  },
  {
   "cell_type": "code",
   "execution_count": 30,
   "metadata": {
    "id": "QjsW0Y_M_x4j"
   },
   "outputs": [],
   "source": [
    "def agregar_contacto(agenda, nombre, numero):\n",
    "    \"\"\"\n",
    "    Tip:\n",
    "    Primero debes comprobar si existe el contacto\n",
    "    si no existe entonces crea uno nuevo y guarda\n",
    "    su nombre y numero\"\"\"\n",
    "    if nombre not in agenda: \n",
    "        agenda[nombre]=[numero]\n",
    "    else: \n",
    "        agenda[nombre].append(numero)\n",
    "    return agenda"
   ]
  },
  {
   "cell_type": "code",
   "execution_count": 31,
   "metadata": {
    "id": "CkJpO_BtzhA5"
   },
   "outputs": [
    {
     "name": "stdout",
     "output_type": "stream",
     "text": [
      "{'Javier': ['1234567890']}\n"
     ]
    }
   ],
   "source": [
    "agenda = crear_agenda()\n",
    "agenda = agregar_contacto(agenda, \"Javier\", \"1234567890\")\n",
    "print(agenda)"
   ]
  },
  {
   "cell_type": "code",
   "execution_count": 32,
   "metadata": {},
   "outputs": [
    {
     "name": "stdout",
     "output_type": "stream",
     "text": [
      "{'Javier': ['1234567890', '445']}\n"
     ]
    }
   ],
   "source": [
    "agenda = agregar_contacto(agenda, \"Javier\", \"445\")\n",
    "print(agenda)"
   ]
  },
  {
   "cell_type": "code",
   "execution_count": 33,
   "metadata": {
    "id": "-xhGm-CXzhA7"
   },
   "outputs": [],
   "source": [
    "def buscar_contacto(agenda, nombre):\n",
    "    \"\"\"\n",
    "    Busca el contacto en la agenda, imprime su nombre y numero\n",
    "    Si tiene mas de un numero, imprime todos\n",
    "    Si el contacto no existe, imprime \"Contacto no encontrado en la agenda\"\n",
    "    \"\"\"\n",
    "    #<rellena>\n",
    "    if nombre not in agenda:\n",
    "            print(\"contacto no encontrado\")\n",
    "    else: \n",
    "        print(\"Nombre {0} y número {1}\".format(nombre, agenda[nombre]))\n",
    "    return agenda"
   ]
  },
  {
   "cell_type": "code",
   "execution_count": 34,
   "metadata": {
    "id": "FzG19KdxzhA7"
   },
   "outputs": [
    {
     "name": "stdout",
     "output_type": "stream",
     "text": [
      "Nombre Javier y número ['1234567890', '445']\n",
      "Nombre Javier y número ['1234567890', '445', '0987654321']\n"
     ]
    },
    {
     "data": {
      "text/plain": [
       "{'Javier': ['1234567890', '445', '0987654321']}"
      ]
     },
     "execution_count": 34,
     "metadata": {},
     "output_type": "execute_result"
    }
   ],
   "source": [
    "buscar_contacto(agenda, \"Javier\")\n",
    "agenda = agregar_contacto(agenda, \"Javier\", \"0987654321\")\n",
    "buscar_contacto(agenda, \"Javier\")"
   ]
  },
  {
   "cell_type": "code",
   "execution_count": 35,
   "metadata": {
    "id": "9c7BfxoZzhA7"
   },
   "outputs": [],
   "source": [
    "def eliminar_contacto(agenda, nombre):\n",
    "    \"\"\"\n",
    "    Elimina el contacto de la agenda\n",
    "    si el contacto no existe imprime \"Contacto no encontrado en la agenda\"\n",
    "    \"\"\"\n",
    "    #<rellena>\n",
    "    if nombre not in agenda: \n",
    "        print(\"Contacto no encontrado en la agenda\")\n",
    "    else: \n",
    "        agenda.pop(nombre)\n",
    "    return agenda"
   ]
  },
  {
   "cell_type": "code",
   "execution_count": 36,
   "metadata": {
    "id": "RkNtzllbBirX"
   },
   "outputs": [
    {
     "name": "stdout",
     "output_type": "stream",
     "text": [
      "{}\n"
     ]
    }
   ],
   "source": [
    "agenda = eliminar_contacto(agenda, \"Javier\")\n",
    "print(agenda)"
   ]
  },
  {
   "cell_type": "markdown",
   "metadata": {
    "id": "3nzzkH6EA88D"
   },
   "source": [
    "# Ejercicios estadística"
   ]
  },
  {
   "cell_type": "markdown",
   "metadata": {
    "id": "e5g5CAaOc01h"
   },
   "source": [
    "### Función suma\n",
    "\n",
    "$$\n",
    "    suma(a) = \\sum_{i=1}^{n}a_i\n",
    "$$"
   ]
  },
  {
   "cell_type": "code",
   "execution_count": 44,
   "metadata": {
    "id": "RxWbpZ42c07g"
   },
   "outputs": [],
   "source": [
    "def suma(x):\n",
    "    suma = 0\n",
    "    #<rellena>\n",
    "    for i in x: \n",
    "        suma+=i\n",
    "    return suma"
   ]
  },
  {
   "cell_type": "code",
   "execution_count": 47,
   "metadata": {
    "id": "mdiLISG-zhA-"
   },
   "outputs": [],
   "source": [
    "assert suma([1, 2, 3, 4, 5]) == 15\n"
   ]
  },
  {
   "cell_type": "markdown",
   "metadata": {
    "id": "Hc30xEPMc1QC"
   },
   "source": [
    "### Función promedio.\n",
    "\n",
    "$$\n",
    "\t\\bar{x} = \\dfrac{\\sum_{i=1}^{n}x_i}{n}\n",
    "$$"
   ]
  },
  {
   "cell_type": "code",
   "execution_count": 48,
   "metadata": {
    "id": "2KyU6PyCc1VM"
   },
   "outputs": [],
   "source": [
    "def promedio(x):\n",
    "    promedio = 0\n",
    "    #<rellena>\n",
    "    for i in x: \n",
    "        promedio+=i\n",
    "    promedio=promedio/len(x)    \n",
    "    return promedio"
   ]
  },
  {
   "cell_type": "code",
   "execution_count": 49,
   "metadata": {
    "id": "7GM2YpXVzhBA"
   },
   "outputs": [],
   "source": [
    "assert promedio([1, 2, 3, 4, 5]) == 3, \"Error en promedio\"\n"
   ]
  },
  {
   "cell_type": "markdown",
   "metadata": {
    "id": "ImMoE5w4c1of"
   },
   "source": [
    "### Función varianza.\n",
    "$$\n",
    "\\sigma^2 = \\frac{1}{n} \\sum_{i=1}^{n}(x_i - \\bar{x})^2\n",
    "$$"
   ]
  },
  {
   "cell_type": "code",
   "execution_count": 53,
   "metadata": {
    "id": "h0w2PHhLc1tG"
   },
   "outputs": [],
   "source": [
    "def var(x):\n",
    "    var = 0\n",
    "    #<rellena>\n",
    "    p = promedio(x)\n",
    "    for i in x: \n",
    "        var = var + (i-p)**2\n",
    "        var=var/len(x)\n",
    "    return var"
   ]
  },
  {
   "cell_type": "code",
   "execution_count": 54,
   "metadata": {
    "id": "puEjtv4OzhBA"
   },
   "outputs": [
    {
     "ename": "AssertionError",
     "evalue": "Error en var",
     "output_type": "error",
     "traceback": [
      "\u001b[0;31m---------------------------------------------------------------------------\u001b[0m",
      "\u001b[0;31mAssertionError\u001b[0m                            Traceback (most recent call last)",
      "\u001b[0;32m<ipython-input-54-fcc7df467a46>\u001b[0m in \u001b[0;36m<module>\u001b[0;34m\u001b[0m\n\u001b[0;32m----> 1\u001b[0;31m \u001b[0;32massert\u001b[0m \u001b[0mvar\u001b[0m\u001b[0;34m(\u001b[0m\u001b[0;34m[\u001b[0m\u001b[0;36m1\u001b[0m\u001b[0;34m,\u001b[0m \u001b[0;36m2\u001b[0m\u001b[0;34m,\u001b[0m \u001b[0;36m3\u001b[0m\u001b[0;34m,\u001b[0m \u001b[0;36m4\u001b[0m\u001b[0;34m,\u001b[0m \u001b[0;36m5\u001b[0m\u001b[0;34m]\u001b[0m\u001b[0;34m)\u001b[0m \u001b[0;34m==\u001b[0m \u001b[0;36m2\u001b[0m\u001b[0;34m,\u001b[0m \u001b[0;34m\"Error en var\"\u001b[0m\u001b[0;34m\u001b[0m\u001b[0;34m\u001b[0m\u001b[0m\n\u001b[0m",
      "\u001b[0;31mAssertionError\u001b[0m: Error en var"
     ]
    }
   ],
   "source": [
    "assert var([1, 2, 3, 4, 5]) == 2, \"Error en var\""
   ]
  },
  {
   "cell_type": "markdown",
   "metadata": {
    "id": "fxxJeFhbA9Cq"
   },
   "source": [
    "# Ejercicios álgebra lineal"
   ]
  },
  {
   "cell_type": "markdown",
   "metadata": {
    "id": "6dXp-owNeqP9"
   },
   "source": [
    "## Vectores con listas"
   ]
  },
  {
   "cell_type": "markdown",
   "metadata": {
    "id": "9Du0_NsNc81H"
   },
   "source": [
    "### Ones"
   ]
  },
  {
   "cell_type": "markdown",
   "metadata": {
    "id": "DKp9wDLPEZdz"
   },
   "source": [
    "Completa la función ones1D que recibe como parámetros un entero $n$ y retorna una lista de tamaño $n$ con todos sus elementos con el valor $1$.\n",
    "\n",
    "Ejemplo:\n",
    "\n",
    "```\n",
    ">>> ones(5)\n",
    "[1, 1, 1, 1, 1]\n",
    "```\n",
    "\n"
   ]
  },
  {
   "cell_type": "code",
   "execution_count": 55,
   "metadata": {
    "id": "l4j5ka46EulY"
   },
   "outputs": [],
   "source": [
    "def ones_1d(n):\n",
    "    ones_list = [1]*n\n",
    "    #<rellena>\n",
    "    return ones_list  "
   ]
  },
  {
   "cell_type": "markdown",
   "metadata": {
    "id": "TBYV7LYqdSJo"
   },
   "source": [
    "Ejecuta la siguiente celda para comprobar la función ones1D:"
   ]
  },
  {
   "cell_type": "code",
   "execution_count": 56,
   "metadata": {
    "id": "QUlEotVIdRno"
   },
   "outputs": [
    {
     "name": "stdout",
     "output_type": "stream",
     "text": [
      "La funcion es correcta\n"
     ]
    }
   ],
   "source": [
    "assert len(ones_1d(10)) == 10 and  ones_1d(3).count(1) == 3 and sum(ones_1d(5)) == 5  , \"error en la funcion ones_1d\"\n",
    "print(\"La funcion es correcta\")"
   ]
  },
  {
   "cell_type": "markdown",
   "metadata": {
    "id": "b8SaUCdYzhBC"
   },
   "source": [
    "### Ones 2D"
   ]
  },
  {
   "cell_type": "markdown",
   "metadata": {
    "id": "lxOMWQXXEZp3"
   },
   "source": [
    "Completa la función ones_2d que recibe como parámetros un entero $n$ y un entero $m$ y retorna una lista con $n$ sub-listas cada una de tamaño $m$ con todos sus elementos con el valor 1. En otras palabras, una matriz $n \\times m$ con sus elementos iniciados con valor $1$.\n",
    "\n",
    "Ejemplo:\n",
    "\n",
    "\n",
    "\n",
    "```\n",
    ">>> ones_2d(2, 3)\n",
    "[[1, 1, 1], [1, 1, 1]]\n",
    "```\n",
    "\n"
   ]
  },
  {
   "cell_type": "code",
   "execution_count": 65,
   "metadata": {
    "id": "-xfFmttxFRCw"
   },
   "outputs": [],
   "source": [
    "def ones_2d(m, n):\n",
    "    ones_ll = [[1 for i in range(n)] for i in range(m)]\n",
    "    \n",
    "    #<rellena>\n",
    "    return ones_ll"
   ]
  },
  {
   "cell_type": "markdown",
   "metadata": {
    "id": "yugjWXI9eI4P"
   },
   "source": [
    "Ejecuta la siguiente celda para comprobar la función ones2D:"
   ]
  },
  {
   "cell_type": "code",
   "execution_count": 62,
   "metadata": {
    "id": "i7sZXWsveJBC"
   },
   "outputs": [
    {
     "name": "stdout",
     "output_type": "stream",
     "text": [
      "La funcion es correcta\n"
     ]
    }
   ],
   "source": [
    "assert len(ones_2d(2, 3)) == 2 and len(ones_2d(2, 3)[0]) == 3 and sum([x_i for sl in ones_2d(3, 2) for x_i in sl]) == 6 , \"error en la funcion ones_2d\"\n",
    "print(\"La funcion es correcta\")"
   ]
  },
  {
   "cell_type": "markdown",
   "metadata": {
    "id": "EwVykdiYzhBD"
   },
   "source": [
    "### Producto punto (inner)"
   ]
  },
  {
   "cell_type": "markdown",
   "metadata": {
    "id": "xy0p5QxEzhBE"
   },
   "source": [
    "Completa la función ones_2d que recibe como parametros dos listas a, b de la misma longitúd y retorna el producto punto de ambos.\n",
    "\n",
    "El producto punto está definido como:\n",
    "\n",
    "$$a = [a_1 a_2 ... a_n] \\: y \\: b = [b_1 b_2 ... b_n]$$\n",
    "\n",
    "$$\n",
    "a \\cdot b = a_1*b_1 + a_2*b_2 + \\dots + a_n*b_n\n",
    "$$"
   ]
  },
  {
   "cell_type": "code",
   "execution_count": 8,
   "metadata": {
    "id": "OvNCcnXLBBc0"
   },
   "outputs": [],
   "source": [
    "def inner(a, b):\n",
    "    #tu codigo\n",
    "    suma=0\n",
    "    for i in range(len(a)):\n",
    "        x =a[i]\n",
    "        y=b[i]\n",
    "        prod=x*y\n",
    "        suma=suma+prod\n",
    "        \n",
    "    return suma        "
   ]
  },
  {
   "cell_type": "code",
   "execution_count": 9,
   "metadata": {
    "id": "-fDkDjKczhBE"
   },
   "outputs": [
    {
     "name": "stdout",
     "output_type": "stream",
     "text": [
      "Correcto\n"
     ]
    }
   ],
   "source": [
    "assert inner([1, 2, 3], [1, 2 ,3]) == 14, \"Error en inner\"\n",
    "print(\"Correcto\")"
   ]
  },
  {
   "cell_type": "markdown",
   "metadata": {
    "id": "6B7dwCC7eqnL"
   },
   "source": [
    "## Matrices con listas de listas"
   ]
  },
  {
   "cell_type": "markdown",
   "metadata": {
    "id": "l36RNkUqexzU"
   },
   "source": [
    "### Matriz identidad\n",
    "$$\n",
    "\tI_{ij} = \\begin{cases}\n",
    "\t\t1 & i=j\\\\\n",
    "\t\t0 & i \\neq j\\\\\n",
    "\t\\end{cases}\n",
    "$$"
   ]
  },
  {
   "cell_type": "code",
   "execution_count": 10,
   "metadata": {
    "id": "afcnX6E_eqvP"
   },
   "outputs": [],
   "source": [
    "def eye(n):\n",
    "    '''\n",
    "    Esta funcion debe regresar la matriz identidad de tamano nxn\n",
    "    '''\n",
    "    I = [[1 if i==j else 0 for i in range(n)]for j in range(n)]\n",
    "    return I"
   ]
  },
  {
   "cell_type": "code",
   "execution_count": 11,
   "metadata": {
    "id": "aGgCGhqrzhBF"
   },
   "outputs": [],
   "source": [
    "assert eye(2) == [[1, 0], [0, 1]], \"Error en eye\""
   ]
  },
  {
   "cell_type": "markdown",
   "metadata": {
    "id": "jLXu_k7CfCqF"
   },
   "source": [
    "### Matriz transpuesta\n",
    "\n",
    "$$C = A^T \\Leftrightarrow c_{ij} = a{ji}$$\n",
    "\n",
    "Por ejemplo, si:\n",
    "\t$$\n",
    "\tA = \\begin{bmatrix}\n",
    "\ta_{11} & a_{12}  \\\\\n",
    "\ta_{21} & a_{22}  \\\\\n",
    "\ta_{31} & a_{32}  \\\\\n",
    "\t\\end{bmatrix}\n",
    "\t$$\n",
    "\tentonces\n",
    "\t$$\n",
    "\tA^T = \\begin{bmatrix}\n",
    "\ta_{11} & a_{21} & a_{31} \\\\\n",
    "\ta_{12} & a_{22} & a_{32} \\\\\n",
    "\t\\end{bmatrix}\n",
    "\t$$"
   ]
  },
  {
   "cell_type": "code",
   "execution_count": 27,
   "metadata": {
    "id": "zKWY09JhfEfa"
   },
   "outputs": [],
   "source": [
    "def traspose(A):\n",
    "    '''\n",
    "    Esta funcion debe regresar la transpuesta de A\n",
    "    '''\n",
    "    \n",
    "    A_t = [[i for i in range(len(A[0]))] for j, i in range(len(A))]\n",
    "    return A_t\n",
    "\n",
    "\n",
    "\n",
    "    #A_t=[]\n",
    "    #for i in range(len(A[0])): \n",
    "     #   vector_fila=[]\n",
    "      #  for j in range(len(A)):\n",
    "       #     vector_fila.append(A[j][i])\n",
    "        #A_t.append(vector_fila[:])\n",
    "    return A_t    "
   ]
  },
  {
   "cell_type": "code",
   "execution_count": 28,
   "metadata": {
    "id": "bl1lclWhzhBF"
   },
   "outputs": [
    {
     "ename": "TypeError",
     "evalue": "cannot unpack non-iterable int object",
     "output_type": "error",
     "traceback": [
      "\u001b[0;31m---------------------------------------------------------------------------\u001b[0m",
      "\u001b[0;31mTypeError\u001b[0m                                 Traceback (most recent call last)",
      "\u001b[0;32m<ipython-input-28-caaebad2d0e4>\u001b[0m in \u001b[0;36m<module>\u001b[0;34m\u001b[0m\n\u001b[0;32m----> 1\u001b[0;31m \u001b[0;32massert\u001b[0m \u001b[0mtraspose\u001b[0m\u001b[0;34m(\u001b[0m\u001b[0;34m[\u001b[0m\u001b[0;34m[\u001b[0m\u001b[0;36m1\u001b[0m\u001b[0;34m,\u001b[0m \u001b[0;36m2\u001b[0m\u001b[0;34m]\u001b[0m\u001b[0;34m,\u001b[0m \u001b[0;34m[\u001b[0m\u001b[0;36m3\u001b[0m\u001b[0;34m,\u001b[0m \u001b[0;36m4\u001b[0m\u001b[0;34m]\u001b[0m\u001b[0;34m,\u001b[0m \u001b[0;34m[\u001b[0m\u001b[0;36m5\u001b[0m\u001b[0;34m,\u001b[0m \u001b[0;36m6\u001b[0m\u001b[0;34m]\u001b[0m\u001b[0;34m]\u001b[0m\u001b[0;34m)\u001b[0m \u001b[0;34m==\u001b[0m \u001b[0;34m[\u001b[0m\u001b[0;34m[\u001b[0m\u001b[0;36m1\u001b[0m\u001b[0;34m,\u001b[0m \u001b[0;36m3\u001b[0m\u001b[0;34m,\u001b[0m \u001b[0;36m5\u001b[0m\u001b[0;34m]\u001b[0m\u001b[0;34m,\u001b[0m \u001b[0;34m[\u001b[0m\u001b[0;36m2\u001b[0m\u001b[0;34m,\u001b[0m \u001b[0;36m4\u001b[0m\u001b[0;34m,\u001b[0m \u001b[0;36m6\u001b[0m\u001b[0;34m]\u001b[0m\u001b[0;34m]\u001b[0m\u001b[0;34m,\u001b[0m \u001b[0;34m\"Error en traspose\"\u001b[0m\u001b[0;34m\u001b[0m\u001b[0;34m\u001b[0m\u001b[0m\n\u001b[0m",
      "\u001b[0;32m<ipython-input-27-371c86c7cf12>\u001b[0m in \u001b[0;36mtraspose\u001b[0;34m(A)\u001b[0m\n\u001b[1;32m      4\u001b[0m     '''\n\u001b[1;32m      5\u001b[0m \u001b[0;34m\u001b[0m\u001b[0m\n\u001b[0;32m----> 6\u001b[0;31m     \u001b[0mA_t\u001b[0m \u001b[0;34m=\u001b[0m \u001b[0;34m[\u001b[0m\u001b[0;34m[\u001b[0m\u001b[0mi\u001b[0m \u001b[0;32mfor\u001b[0m \u001b[0mi\u001b[0m \u001b[0;32min\u001b[0m \u001b[0mrange\u001b[0m\u001b[0;34m(\u001b[0m\u001b[0mlen\u001b[0m\u001b[0;34m(\u001b[0m\u001b[0mA\u001b[0m\u001b[0;34m[\u001b[0m\u001b[0;36m0\u001b[0m\u001b[0;34m]\u001b[0m\u001b[0;34m)\u001b[0m\u001b[0;34m)\u001b[0m\u001b[0;34m]\u001b[0m \u001b[0;32mfor\u001b[0m \u001b[0mj\u001b[0m\u001b[0;34m,\u001b[0m \u001b[0mi\u001b[0m \u001b[0;32min\u001b[0m \u001b[0mrange\u001b[0m\u001b[0;34m(\u001b[0m\u001b[0mlen\u001b[0m\u001b[0;34m(\u001b[0m\u001b[0mA\u001b[0m\u001b[0;34m)\u001b[0m\u001b[0;34m)\u001b[0m\u001b[0;34m]\u001b[0m\u001b[0;34m\u001b[0m\u001b[0;34m\u001b[0m\u001b[0m\n\u001b[0m\u001b[1;32m      7\u001b[0m     \u001b[0;32mreturn\u001b[0m \u001b[0mA_t\u001b[0m\u001b[0;34m\u001b[0m\u001b[0;34m\u001b[0m\u001b[0m\n\u001b[1;32m      8\u001b[0m \u001b[0;34m\u001b[0m\u001b[0m\n",
      "\u001b[0;32m<ipython-input-27-371c86c7cf12>\u001b[0m in \u001b[0;36m<listcomp>\u001b[0;34m(.0)\u001b[0m\n\u001b[1;32m      4\u001b[0m     '''\n\u001b[1;32m      5\u001b[0m \u001b[0;34m\u001b[0m\u001b[0m\n\u001b[0;32m----> 6\u001b[0;31m     \u001b[0mA_t\u001b[0m \u001b[0;34m=\u001b[0m \u001b[0;34m[\u001b[0m\u001b[0;34m[\u001b[0m\u001b[0mi\u001b[0m \u001b[0;32mfor\u001b[0m \u001b[0mi\u001b[0m \u001b[0;32min\u001b[0m \u001b[0mrange\u001b[0m\u001b[0;34m(\u001b[0m\u001b[0mlen\u001b[0m\u001b[0;34m(\u001b[0m\u001b[0mA\u001b[0m\u001b[0;34m[\u001b[0m\u001b[0;36m0\u001b[0m\u001b[0;34m]\u001b[0m\u001b[0;34m)\u001b[0m\u001b[0;34m)\u001b[0m\u001b[0;34m]\u001b[0m \u001b[0;32mfor\u001b[0m \u001b[0mj\u001b[0m\u001b[0;34m,\u001b[0m \u001b[0mi\u001b[0m \u001b[0;32min\u001b[0m \u001b[0mrange\u001b[0m\u001b[0;34m(\u001b[0m\u001b[0mlen\u001b[0m\u001b[0;34m(\u001b[0m\u001b[0mA\u001b[0m\u001b[0;34m)\u001b[0m\u001b[0;34m)\u001b[0m\u001b[0;34m]\u001b[0m\u001b[0;34m\u001b[0m\u001b[0;34m\u001b[0m\u001b[0m\n\u001b[0m\u001b[1;32m      7\u001b[0m     \u001b[0;32mreturn\u001b[0m \u001b[0mA_t\u001b[0m\u001b[0;34m\u001b[0m\u001b[0;34m\u001b[0m\u001b[0m\n\u001b[1;32m      8\u001b[0m \u001b[0;34m\u001b[0m\u001b[0m\n",
      "\u001b[0;31mTypeError\u001b[0m: cannot unpack non-iterable int object"
     ]
    }
   ],
   "source": [
    "assert traspose([[1, 2], [3, 4], [5, 6]]) == [[1, 3, 5], [2, 4, 6]], \"Error en traspose\""
   ]
  },
  {
   "cell_type": "markdown",
   "metadata": {
    "id": "YnYXfNmizhBF"
   },
   "source": [
    "### Valida multiplicación\n",
    "\n",
    "```True``` si\n",
    "$$A \\qquad es \\qquad mxn$$\n",
    "y\n",
    "$$B \\qquad es \\qquad nxp$$\n",
    "```False``` en otro caso"
   ]
  },
  {
   "cell_type": "code",
   "execution_count": 29,
   "metadata": {
    "id": "QS3a6v3CzhBG"
   },
   "outputs": [],
   "source": [
    "def validate_mat_mul(A, B):\n",
    "    val = False\n",
    "    n= len(A[0])\n",
    "    if len(B)==n:\n",
    "        val=True\n",
    "    return val"
   ]
  },
  {
   "cell_type": "code",
   "execution_count": 30,
   "metadata": {
    "id": "5bhyeBnMzhBG"
   },
   "outputs": [],
   "source": [
    "assert validate_mat_mul([[1, 2], [3, 4]], [[5, 6], [7, 8]]) and \\\n",
    "validate_mat_mul([[1, 2], [3, 4], [5, 6]], [[1, 2, 3], [4, 5, 6]]) and \\\n",
    "not validate_mat_mul([[1, 2, 3], [4, 5, 6], [7, 8, 9]], [[1, 2], [3, 4]]), \"Error en validate_mat_mul\""
   ]
  },
  {
   "cell_type": "markdown",
   "metadata": {
    "id": "RY2TgoGye3pV"
   },
   "source": [
    "### Multiplicación de matrices\n",
    "\n",
    "Si $A \\in \\mathbb{R}^{m \\times n}$ y $B \\in \\mathbb{R}^{n \\times p}$ entonces:\n",
    "$$\n",
    "C = A B \\in \\mathbb{R}^{m \\times p}\\Leftrightarrow c_{ij} = \\sum_{k=1}^{n}a_{ik} b_{kj}\n",
    "$$"
   ]
  },
  {
   "cell_type": "code",
   "execution_count": 41,
   "metadata": {
    "id": "DxFQFm51e-A1"
   },
   "outputs": [],
   "source": [
    "def mat_mul(A, B):\n",
    "    C = []\n",
    "    for i in range(len(A)):\n",
    "        vector_fila_c = []\n",
    "        for j in range(len(B[0])):\n",
    "            suma = 0\n",
    "            for k in range(len(B)):\n",
    "                a=A[i][k]\n",
    "                b=B[k][j]\n",
    "                prod = a*b \n",
    "                suma=suma + prod\n",
    "            vector_fila_c.append(suma)    \n",
    "                \n",
    "    C.append(vector_fila_c[:])\n",
    "    \n",
    "    \n",
    "        c=[]\n",
    "        for i in range(len(A)):\n",
    "            vector_aux =[]\n",
    "            for j in range(len(B)):\n",
    "                vector_aux = 0"
   ]
  },
  {
   "cell_type": "code",
   "execution_count": 42,
   "metadata": {
    "id": "C_Z-q0k7zhBH"
   },
   "outputs": [
    {
     "ename": "AssertionError",
     "evalue": "Error en mat_mul",
     "output_type": "error",
     "traceback": [
      "\u001b[0;31m---------------------------------------------------------------------------\u001b[0m",
      "\u001b[0;31mAssertionError\u001b[0m                            Traceback (most recent call last)",
      "\u001b[0;32m<ipython-input-42-09d37d38a805>\u001b[0m in \u001b[0;36m<module>\u001b[0;34m\u001b[0m\n\u001b[0;32m----> 1\u001b[0;31m \u001b[0;32massert\u001b[0m \u001b[0mmat_mul\u001b[0m\u001b[0;34m(\u001b[0m\u001b[0;34m[\u001b[0m\u001b[0;34m[\u001b[0m\u001b[0;36m1\u001b[0m\u001b[0;34m,\u001b[0m \u001b[0;36m2\u001b[0m\u001b[0;34m]\u001b[0m\u001b[0;34m,\u001b[0m \u001b[0;34m[\u001b[0m\u001b[0;36m3\u001b[0m\u001b[0;34m,\u001b[0m \u001b[0;36m4\u001b[0m\u001b[0;34m]\u001b[0m\u001b[0;34m,\u001b[0m \u001b[0;34m[\u001b[0m\u001b[0;36m5\u001b[0m\u001b[0;34m,\u001b[0m \u001b[0;36m6\u001b[0m\u001b[0;34m]\u001b[0m\u001b[0;34m]\u001b[0m\u001b[0;34m,\u001b[0m \u001b[0;34m[\u001b[0m\u001b[0;34m[\u001b[0m\u001b[0;36m2\u001b[0m\u001b[0;34m,\u001b[0m \u001b[0;36m2\u001b[0m\u001b[0;34m]\u001b[0m\u001b[0;34m,\u001b[0m \u001b[0;34m[\u001b[0m\u001b[0;36m2\u001b[0m\u001b[0;34m,\u001b[0m \u001b[0;36m2\u001b[0m\u001b[0;34m]\u001b[0m\u001b[0;34m]\u001b[0m\u001b[0;34m)\u001b[0m \u001b[0;34m==\u001b[0m \u001b[0;34m[\u001b[0m\u001b[0;34m[\u001b[0m\u001b[0;36m6\u001b[0m\u001b[0;34m,\u001b[0m \u001b[0;36m6\u001b[0m\u001b[0;34m]\u001b[0m\u001b[0;34m,\u001b[0m \u001b[0;34m[\u001b[0m\u001b[0;36m14\u001b[0m\u001b[0;34m,\u001b[0m \u001b[0;36m14\u001b[0m\u001b[0;34m]\u001b[0m\u001b[0;34m,\u001b[0m \u001b[0;34m[\u001b[0m\u001b[0;36m22\u001b[0m\u001b[0;34m,\u001b[0m \u001b[0;36m22\u001b[0m\u001b[0;34m]\u001b[0m\u001b[0;34m]\u001b[0m\u001b[0;34m,\u001b[0m \u001b[0;34m\"Error en mat_mul\"\u001b[0m\u001b[0;34m\u001b[0m\u001b[0;34m\u001b[0m\u001b[0m\n\u001b[0m",
      "\u001b[0;31mAssertionError\u001b[0m: Error en mat_mul"
     ]
    }
   ],
   "source": [
    "assert mat_mul([[1, 2], [3, 4], [5, 6]], [[2, 2], [2, 2]]) == [[6, 6], [14, 14], [22, 22]], \"Error en mat_mul\""
   ]
  },
  {
   "cell_type": "code",
   "execution_count": null,
   "metadata": {},
   "outputs": [],
   "source": []
  }
 ],
 "metadata": {
  "colab": {
   "collapsed_sections": [],
   "include_colab_link": true,
   "name": "Ejercicios.ipynb",
   "provenance": []
  },
  "kernelspec": {
   "display_name": "Python 3",
   "language": "python",
   "name": "python3"
  },
  "language_info": {
   "codemirror_mode": {
    "name": "ipython",
    "version": 3
   },
   "file_extension": ".py",
   "mimetype": "text/x-python",
   "name": "python",
   "nbconvert_exporter": "python",
   "pygments_lexer": "ipython3",
   "version": "3.8.5"
  }
 },
 "nbformat": 4,
 "nbformat_minor": 1
}
